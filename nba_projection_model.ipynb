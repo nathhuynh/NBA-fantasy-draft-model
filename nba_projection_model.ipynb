{
 "cells": [
  {
   "cell_type": "markdown",
   "id": "c9bad5e9",
   "metadata": {},
   "source": [
    "# Cleaning up the NBA Data"
   ]
  },
  {
   "cell_type": "code",
   "execution_count": 2,
   "id": "9792d49f",
   "metadata": {},
   "outputs": [],
   "source": [
    "import pandas as pd\n",
    "import numpy as np\n",
    "import matplotlib.pyplot as plt\n",
    "%matplotlib inline"
   ]
  },
  {
   "cell_type": "code",
   "execution_count": 142,
   "id": "65288036",
   "metadata": {},
   "outputs": [],
   "source": [
    "# stat columns used in the weekly matchups in a NBA fantasy league\n",
    "stats = ['PTS', 'MP', 'FGM', 'FGA', 'FG3M', 'FG3A', 'FTM', 'FTA', 'OREB', 'DREB', 'AST', 'STL', 'TOV', 'BLK', 'PF']"
   ]
  },
  {
   "cell_type": "code",
   "execution_count": 143,
   "id": "2c527039",
   "metadata": {},
   "outputs": [],
   "source": [
    "# read per game data of NBA players from 1947 to present\n",
    "df = pd.read_csv('../stats-csv/nba-per-game-stats.csv', header = 0)"
   ]
  },
  {
   "cell_type": "code",
   "execution_count": 144,
   "id": "ee8f5620",
   "metadata": {},
   "outputs": [],
   "source": [
    "# renaming columns\n",
    "df.rename(columns={'mp_per_game': 'MP',\n",
    "                   'fg_per_game': 'FGM',\n",
    "                   'fga_per_game': 'FGA',\n",
    "                   'x3p_per_game': 'FG3M',\n",
    "                   'x3pa_per_game': 'FG3A',\n",
    "                   'ft_per_game': 'FTM',\n",
    "                   'fta_per_game': 'FTA',\n",
    "                   'orb_per_game': 'OREB',\n",
    "                   'drb_per_game': 'DREB',\n",
    "                   'ast_per_game': 'AST',\n",
    "                   'stl_per_game': 'STL',\n",
    "                   'blk_per_game': 'BLK',\n",
    "                   'tov_per_game': 'TOV',\n",
    "                   'pf_per_game': 'PF',\n",
    "                   'pts_per_game': 'PTS'}, inplace=True)\n",
    "\n",
    "# remove unnecessary columns\n",
    "df = df.drop(['trb_per_game', 'x2pa_per_game', 'x2p_per_game'], axis=1)"
   ]
  },
  {
   "cell_type": "code",
   "execution_count": 149,
   "id": "09287118",
   "metadata": {
    "scrolled": true
   },
   "outputs": [],
   "source": [
    "# drop rows where all values are NaN\n",
    "cleaned_df = df.dropna(axis=0, how='all')"
   ]
  },
  {
   "cell_type": "code",
   "execution_count": 150,
   "id": "0c3c3752",
   "metadata": {},
   "outputs": [
    {
     "data": {
      "text/plain": [
       "<AxesSubplot:>"
      ]
     },
     "execution_count": 150,
     "metadata": {},
     "output_type": "execute_result"
    },
    {
     "data": {
      "image/png": "[encoded data removed]",
      "text/plain": [
       "<Figure size 1080x576 with 1 Axes>"
      ]
     },
     "metadata": {
      "needs_background": "light"
     },
     "output_type": "display_data"
    }
   ],
   "source": [
    "# removing outliers in the data\n",
    "# histogram of games played in the dataframe\n",
    "bin_vals = np.arange(start = 0, stop=82, step=2)\n",
    "cleaned_df['g'].hist(bins=bin_vals, figsize=[15, 8])"
   ]
  },
  {
   "cell_type": "code",
   "execution_count": 151,
   "id": "43462043",
   "metadata": {},
   "outputs": [],
   "source": [
    "# by observing the histogram, we can see the data set gets more normal after 10 games\n",
    "# so all seasons for players that played in less than 10 games will be removed from the dataframe\n",
    "min_games = 10\n",
    "filtered_df = cleaned_df[cleaned_df['g'] > min_games]"
   ]
  },
  {
   "cell_type": "code",
   "execution_count": 152,
   "id": "438840e5",
   "metadata": {},
   "outputs": [],
   "source": [
    "a = cleaned_df['player_id'].count()\n",
    "b = filtered_df['player_id'].count()"
   ]
  },
  {
   "cell_type": "code",
   "execution_count": 153,
   "id": "ab65b7f2",
   "metadata": {},
   "outputs": [
    {
     "data": {
      "text/plain": [
       "3827"
      ]
     },
     "execution_count": 153,
     "metadata": {},
     "output_type": "execute_result"
    }
   ],
   "source": [
    "a - b\n",
    "# 3827 rows have been removed"
   ]
  },
  {
   "cell_type": "markdown",
   "id": "582d7e14",
   "metadata": {},
   "source": [
    "# Normalising Data Across NBA Seasons\n",
    "A 20 points per game player in 1995 is not equivalent to a 20 points per game player in 2023. The playstyle, pace and rules of the NBA have drastically changed over the years. More specifically, the pace of the game has increased, with the average points per game of each season increasing consistently alongside the league's evolution. A key contributor to this is the increased volume in three point shooting, which allows a modern NBA player to more easily average 20 points per game compared to a NBA player from the past. Normalising the stats across NBA seasons will allow for better comparison between players' seasons across multiple decades."
   ]
  },
  {
   "cell_type": "code",
   "execution_count": 154,
   "id": "ac10e29b",
   "metadata": {},
   "outputs": [],
   "source": [
    "latest_season = (filtered_df['season'] == 2023)"
   ]
  },
  {
   "cell_type": "code",
   "execution_count": 155,
   "id": "0e491ad7",
   "metadata": {},
   "outputs": [],
   "source": [
    "df_2023 = filtered_df[latest_season]"
   ]
  },
  {
   "cell_type": "code",
   "execution_count": 156,
   "id": "8dafa9df",
   "metadata": {},
   "outputs": [],
   "source": [
    "# function to normalise each stat column\n",
    "def normalise(column):\n",
    "    return (column - column.min()) / (column.max() - column.min())"
   ]
  },
  {
   "cell_type": "code",
   "execution_count": 157,
   "id": "28811b2f",
   "metadata": {},
   "outputs": [],
   "source": [
    "stats_to_norm = ['PTS', 'MP', 'FGM', 'FGA', 'FG3M', 'FG3A', 'FTM', 'FTA', 'OREB', 'DREB', 'AST', 'STL', 'TOV', 'BLK', 'PF']"
   ]
  },
  {
   "cell_type": "code",
   "execution_count": 158,
   "id": "326b889c",
   "metadata": {},
   "outputs": [],
   "source": [
    "# function to normalise the dataframe using the function above\n",
    "def normalise_df(df):\n",
    "    for stat in stats_to_norm:\n",
    "        df['NORM_{}'.format(stat)] = normalise(df[stat])\n",
    "    return df"
   ]
  },
  {
   "cell_type": "code",
   "execution_count": 159,
   "id": "118cefb1",
   "metadata": {},
   "outputs": [
    {
     "name": "stderr",
     "output_type": "stream",
     "text": [
      "/home/nathhuynh/nba-fantasy/venv/lib/python3.6/site-packages/ipykernel_launcher.py:4: SettingWithCopyWarning: \n",
      "A value is trying to be set on a copy of a slice from a DataFrame.\n",
      "Try using .loc[row_indexer,col_indexer] = value instead\n",
      "\n",
      "See the caveats in the documentation: https://pandas.pydata.org/pandas-docs/stable/user_guide/indexing.html#returning-a-view-versus-a-copy\n",
      "  after removing the cwd from sys.path.\n"
     ]
    }
   ],
   "source": [
    "normed_2023 = normalise_df(df_2023)"
   ]
  },
  {
   "cell_type": "code",
   "execution_count": 160,
   "id": "297c9e31",
   "metadata": {
    "scrolled": false
   },
   "outputs": [
    {
     "data": {
      "text/html": [
       "<div>\n",
       "<style scoped>\n",
       "    .dataframe tbody tr th:only-of-type {\n",
       "        vertical-align: middle;\n",
       "    }\n",
       "\n",
       "    .dataframe tbody tr th {\n",
       "        vertical-align: top;\n",
       "    }\n",
       "\n",
       "    .dataframe thead th {\n",
       "        text-align: right;\n",
       "    }\n",
       "</style>\n",
       "<table border=\"1\" class=\"dataframe\">\n",
       "  <thead>\n",
       "    <tr style=\"text-align: right;\">\n",
       "      <th></th>\n",
       "      <th>seas_id</th>\n",
       "      <th>season</th>\n",
       "      <th>player_id</th>\n",
       "      <th>player</th>\n",
       "      <th>birth_year</th>\n",
       "      <th>pos</th>\n",
       "      <th>age</th>\n",
       "      <th>experience</th>\n",
       "      <th>lg</th>\n",
       "      <th>tm</th>\n",
       "      <th>...</th>\n",
       "      <th>NORM_FG3A</th>\n",
       "      <th>NORM_FTM</th>\n",
       "      <th>NORM_FTA</th>\n",
       "      <th>NORM_OREB</th>\n",
       "      <th>NORM_DREB</th>\n",
       "      <th>NORM_AST</th>\n",
       "      <th>NORM_STL</th>\n",
       "      <th>NORM_TOV</th>\n",
       "      <th>NORM_BLK</th>\n",
       "      <th>NORM_PF</th>\n",
       "    </tr>\n",
       "  </thead>\n",
       "  <tbody>\n",
       "    <tr>\n",
       "      <th>574</th>\n",
       "      <td>31032</td>\n",
       "      <td>2023</td>\n",
       "      <td>4882</td>\n",
       "      <td>Saddiq Bey</td>\n",
       "      <td>NaN</td>\n",
       "      <td>SF</td>\n",
       "      <td>23.0</td>\n",
       "      <td>3</td>\n",
       "      <td>NBA</td>\n",
       "      <td>TOT</td>\n",
       "      <td>...</td>\n",
       "      <td>0.473684</td>\n",
       "      <td>0.27</td>\n",
       "      <td>0.252033</td>\n",
       "      <td>0.254902</td>\n",
       "      <td>0.340426</td>\n",
       "      <td>0.132075</td>\n",
       "      <td>0.444444</td>\n",
       "      <td>0.200</td>\n",
       "      <td>0.066667</td>\n",
       "      <td>0.405405</td>\n",
       "    </tr>\n",
       "    <tr>\n",
       "      <th>142</th>\n",
       "      <td>30600</td>\n",
       "      <td>2023</td>\n",
       "      <td>3812</td>\n",
       "      <td>Derrick Rose</td>\n",
       "      <td>NaN</td>\n",
       "      <td>PG</td>\n",
       "      <td>34.0</td>\n",
       "      <td>14</td>\n",
       "      <td>NBA</td>\n",
       "      <td>NYK</td>\n",
       "      <td>...</td>\n",
       "      <td>0.201754</td>\n",
       "      <td>0.04</td>\n",
       "      <td>0.032520</td>\n",
       "      <td>0.058824</td>\n",
       "      <td>0.106383</td>\n",
       "      <td>0.150943</td>\n",
       "      <td>0.111111</td>\n",
       "      <td>0.175</td>\n",
       "      <td>0.066667</td>\n",
       "      <td>0.162162</td>\n",
       "    </tr>\n",
       "    <tr>\n",
       "      <th>255</th>\n",
       "      <td>30713</td>\n",
       "      <td>2023</td>\n",
       "      <td>4725</td>\n",
       "      <td>Jalen McDaniels</td>\n",
       "      <td>NaN</td>\n",
       "      <td>SF</td>\n",
       "      <td>25.0</td>\n",
       "      <td>4</td>\n",
       "      <td>NBA</td>\n",
       "      <td>TOT</td>\n",
       "      <td>...</td>\n",
       "      <td>0.254386</td>\n",
       "      <td>0.15</td>\n",
       "      <td>0.138211</td>\n",
       "      <td>0.156863</td>\n",
       "      <td>0.351064</td>\n",
       "      <td>0.141509</td>\n",
       "      <td>0.500000</td>\n",
       "      <td>0.275</td>\n",
       "      <td>0.133333</td>\n",
       "      <td>0.675676</td>\n",
       "    </tr>\n",
       "    <tr>\n",
       "      <th>229</th>\n",
       "      <td>30687</td>\n",
       "      <td>2023</td>\n",
       "      <td>5047</td>\n",
       "      <td>Isaiah Mobley</td>\n",
       "      <td>NaN</td>\n",
       "      <td>PF</td>\n",
       "      <td>23.0</td>\n",
       "      <td>1</td>\n",
       "      <td>NBA</td>\n",
       "      <td>CLE</td>\n",
       "      <td>...</td>\n",
       "      <td>0.052632</td>\n",
       "      <td>0.03</td>\n",
       "      <td>0.024390</td>\n",
       "      <td>0.058824</td>\n",
       "      <td>0.106383</td>\n",
       "      <td>0.009434</td>\n",
       "      <td>0.111111</td>\n",
       "      <td>0.000</td>\n",
       "      <td>0.066667</td>\n",
       "      <td>0.135135</td>\n",
       "    </tr>\n",
       "    <tr>\n",
       "      <th>614</th>\n",
       "      <td>31072</td>\n",
       "      <td>2023</td>\n",
       "      <td>4131</td>\n",
       "      <td>Terrence Ross</td>\n",
       "      <td>NaN</td>\n",
       "      <td>SG</td>\n",
       "      <td>31.0</td>\n",
       "      <td>11</td>\n",
       "      <td>NBA</td>\n",
       "      <td>TOT</td>\n",
       "      <td>...</td>\n",
       "      <td>0.359649</td>\n",
       "      <td>0.04</td>\n",
       "      <td>0.040650</td>\n",
       "      <td>0.058824</td>\n",
       "      <td>0.202128</td>\n",
       "      <td>0.132075</td>\n",
       "      <td>0.277778</td>\n",
       "      <td>0.150</td>\n",
       "      <td>0.066667</td>\n",
       "      <td>0.378378</td>\n",
       "    </tr>\n",
       "  </tbody>\n",
       "</table>\n",
       "<p>5 rows × 47 columns</p>\n",
       "</div>"
      ],
      "text/plain": [
       "     seas_id  season  player_id           player  birth_year pos   age  \\\n",
       "574    31032    2023       4882       Saddiq Bey         NaN  SF  23.0   \n",
       "142    30600    2023       3812     Derrick Rose         NaN  PG  34.0   \n",
       "255    30713    2023       4725  Jalen McDaniels         NaN  SF  25.0   \n",
       "229    30687    2023       5047    Isaiah Mobley         NaN  PF  23.0   \n",
       "614    31072    2023       4131    Terrence Ross         NaN  SG  31.0   \n",
       "\n",
       "     experience   lg   tm  ...  NORM_FG3A  NORM_FTM  NORM_FTA  NORM_OREB  \\\n",
       "574           3  NBA  TOT  ...   0.473684      0.27  0.252033   0.254902   \n",
       "142          14  NBA  NYK  ...   0.201754      0.04  0.032520   0.058824   \n",
       "255           4  NBA  TOT  ...   0.254386      0.15  0.138211   0.156863   \n",
       "229           1  NBA  CLE  ...   0.052632      0.03  0.024390   0.058824   \n",
       "614          11  NBA  TOT  ...   0.359649      0.04  0.040650   0.058824   \n",
       "\n",
       "     NORM_DREB  NORM_AST  NORM_STL  NORM_TOV  NORM_BLK   NORM_PF  \n",
       "574   0.340426  0.132075  0.444444     0.200  0.066667  0.405405  \n",
       "142   0.106383  0.150943  0.111111     0.175  0.066667  0.162162  \n",
       "255   0.351064  0.141509  0.500000     0.275  0.133333  0.675676  \n",
       "229   0.106383  0.009434  0.111111     0.000  0.066667  0.135135  \n",
       "614   0.202128  0.132075  0.277778     0.150  0.066667  0.378378  \n",
       "\n",
       "[5 rows x 47 columns]"
      ]
     },
     "execution_count": 160,
     "metadata": {},
     "output_type": "execute_result"
    }
   ],
   "source": [
    "normed_2023.sample(5)"
   ]
  },
  {
   "cell_type": "markdown",
   "id": "c6c0ea90",
   "metadata": {},
   "source": [
    "Now we have the columns of normalised stats to compare players across a season. However, since the dataframe is comprised of multiple seasons, we will have to groupby season. "
   ]
  },
  {
   "cell_type": "code",
   "execution_count": 161,
   "id": "999ea3c3",
   "metadata": {},
   "outputs": [],
   "source": [
    "new_df = filtered_df.groupby(['season']).apply(normalise_df)"
   ]
  },
  {
   "cell_type": "code",
   "execution_count": 162,
   "id": "73c3d973",
   "metadata": {},
   "outputs": [
    {
     "data": {
      "text/html": [
       "<div>\n",
       "<style scoped>\n",
       "    .dataframe tbody tr th:only-of-type {\n",
       "        vertical-align: middle;\n",
       "    }\n",
       "\n",
       "    .dataframe tbody tr th {\n",
       "        vertical-align: top;\n",
       "    }\n",
       "\n",
       "    .dataframe thead th {\n",
       "        text-align: right;\n",
       "    }\n",
       "</style>\n",
       "<table border=\"1\" class=\"dataframe\">\n",
       "  <thead>\n",
       "    <tr style=\"text-align: right;\">\n",
       "      <th></th>\n",
       "      <th>seas_id</th>\n",
       "      <th>season</th>\n",
       "      <th>player_id</th>\n",
       "      <th>player</th>\n",
       "      <th>birth_year</th>\n",
       "      <th>pos</th>\n",
       "      <th>age</th>\n",
       "      <th>experience</th>\n",
       "      <th>lg</th>\n",
       "      <th>tm</th>\n",
       "      <th>...</th>\n",
       "      <th>NORM_FG3A</th>\n",
       "      <th>NORM_FTM</th>\n",
       "      <th>NORM_FTA</th>\n",
       "      <th>NORM_OREB</th>\n",
       "      <th>NORM_DREB</th>\n",
       "      <th>NORM_AST</th>\n",
       "      <th>NORM_STL</th>\n",
       "      <th>NORM_TOV</th>\n",
       "      <th>NORM_BLK</th>\n",
       "      <th>NORM_PF</th>\n",
       "    </tr>\n",
       "  </thead>\n",
       "  <tbody>\n",
       "    <tr>\n",
       "      <th>22341</th>\n",
       "      <td>9000</td>\n",
       "      <td>1982</td>\n",
       "      <td>1829</td>\n",
       "      <td>Purvis Short</td>\n",
       "      <td>NaN</td>\n",
       "      <td>SF</td>\n",
       "      <td>24.0</td>\n",
       "      <td>4</td>\n",
       "      <td>NBA</td>\n",
       "      <td>GSW</td>\n",
       "      <td>...</td>\n",
       "      <td>0.129032</td>\n",
       "      <td>0.278481</td>\n",
       "      <td>0.262626</td>\n",
       "      <td>0.220588</td>\n",
       "      <td>0.183673</td>\n",
       "      <td>0.284211</td>\n",
       "      <td>0.307692</td>\n",
       "      <td>0.365854</td>\n",
       "      <td>0.032258</td>\n",
       "      <td>0.568182</td>\n",
       "    </tr>\n",
       "    <tr>\n",
       "      <th>10546</th>\n",
       "      <td>20852</td>\n",
       "      <td>2007</td>\n",
       "      <td>3703</td>\n",
       "      <td>Quincy Douby</td>\n",
       "      <td>NaN</td>\n",
       "      <td>PG</td>\n",
       "      <td>22.0</td>\n",
       "      <td>1</td>\n",
       "      <td>NBA</td>\n",
       "      <td>SAC</td>\n",
       "      <td>...</td>\n",
       "      <td>0.148148</td>\n",
       "      <td>0.019608</td>\n",
       "      <td>0.026087</td>\n",
       "      <td>0.068182</td>\n",
       "      <td>0.029703</td>\n",
       "      <td>0.034483</td>\n",
       "      <td>0.181818</td>\n",
       "      <td>0.069767</td>\n",
       "      <td>0.030303</td>\n",
       "      <td>0.058824</td>\n",
       "    </tr>\n",
       "    <tr>\n",
       "      <th>21468</th>\n",
       "      <td>9625</td>\n",
       "      <td>1984</td>\n",
       "      <td>1931</td>\n",
       "      <td>Joe Barry Carroll</td>\n",
       "      <td>NaN</td>\n",
       "      <td>C</td>\n",
       "      <td>25.0</td>\n",
       "      <td>4</td>\n",
       "      <td>NBA</td>\n",
       "      <td>GSW</td>\n",
       "      <td>...</td>\n",
       "      <td>0.000000</td>\n",
       "      <td>0.372549</td>\n",
       "      <td>0.435897</td>\n",
       "      <td>0.571429</td>\n",
       "      <td>0.558140</td>\n",
       "      <td>0.178295</td>\n",
       "      <td>0.481481</td>\n",
       "      <td>0.720930</td>\n",
       "      <td>0.418605</td>\n",
       "      <td>0.613636</td>\n",
       "    </tr>\n",
       "    <tr>\n",
       "      <th>15325</th>\n",
       "      <td>16056</td>\n",
       "      <td>1998</td>\n",
       "      <td>2533</td>\n",
       "      <td>Nick Anderson</td>\n",
       "      <td>NaN</td>\n",
       "      <td>SF</td>\n",
       "      <td>30.0</td>\n",
       "      <td>9</td>\n",
       "      <td>NBA</td>\n",
       "      <td>ORL</td>\n",
       "      <td>...</td>\n",
       "      <td>0.627119</td>\n",
       "      <td>0.282051</td>\n",
       "      <td>0.298246</td>\n",
       "      <td>0.250000</td>\n",
       "      <td>0.340206</td>\n",
       "      <td>0.200000</td>\n",
       "      <td>0.461538</td>\n",
       "      <td>0.378378</td>\n",
       "      <td>0.108108</td>\n",
       "      <td>0.378378</td>\n",
       "    </tr>\n",
       "    <tr>\n",
       "      <th>3296</th>\n",
       "      <td>28032</td>\n",
       "      <td>2019</td>\n",
       "      <td>4348</td>\n",
       "      <td>Mario Hezonja</td>\n",
       "      <td>NaN</td>\n",
       "      <td>SF</td>\n",
       "      <td>23.0</td>\n",
       "      <td>4</td>\n",
       "      <td>NBA</td>\n",
       "      <td>NYK</td>\n",
       "      <td>...</td>\n",
       "      <td>0.196970</td>\n",
       "      <td>0.154639</td>\n",
       "      <td>0.181818</td>\n",
       "      <td>0.092593</td>\n",
       "      <td>0.318182</td>\n",
       "      <td>0.140187</td>\n",
       "      <td>0.434783</td>\n",
       "      <td>0.300000</td>\n",
       "      <td>0.037037</td>\n",
       "      <td>0.472222</td>\n",
       "    </tr>\n",
       "  </tbody>\n",
       "</table>\n",
       "<p>5 rows × 47 columns</p>\n",
       "</div>"
      ],
      "text/plain": [
       "       seas_id  season  player_id             player  birth_year pos   age  \\\n",
       "22341     9000    1982       1829       Purvis Short         NaN  SF  24.0   \n",
       "10546    20852    2007       3703       Quincy Douby         NaN  PG  22.0   \n",
       "21468     9625    1984       1931  Joe Barry Carroll         NaN   C  25.0   \n",
       "15325    16056    1998       2533      Nick Anderson         NaN  SF  30.0   \n",
       "3296     28032    2019       4348      Mario Hezonja         NaN  SF  23.0   \n",
       "\n",
       "       experience   lg   tm  ...  NORM_FG3A  NORM_FTM  NORM_FTA  NORM_OREB  \\\n",
       "22341           4  NBA  GSW  ...   0.129032  0.278481  0.262626   0.220588   \n",
       "10546           1  NBA  SAC  ...   0.148148  0.019608  0.026087   0.068182   \n",
       "21468           4  NBA  GSW  ...   0.000000  0.372549  0.435897   0.571429   \n",
       "15325           9  NBA  ORL  ...   0.627119  0.282051  0.298246   0.250000   \n",
       "3296            4  NBA  NYK  ...   0.196970  0.154639  0.181818   0.092593   \n",
       "\n",
       "       NORM_DREB  NORM_AST  NORM_STL  NORM_TOV  NORM_BLK   NORM_PF  \n",
       "22341   0.183673  0.284211  0.307692  0.365854  0.032258  0.568182  \n",
       "10546   0.029703  0.034483  0.181818  0.069767  0.030303  0.058824  \n",
       "21468   0.558140  0.178295  0.481481  0.720930  0.418605  0.613636  \n",
       "15325   0.340206  0.200000  0.461538  0.378378  0.108108  0.378378  \n",
       "3296    0.318182  0.140187  0.434783  0.300000  0.037037  0.472222  \n",
       "\n",
       "[5 rows x 47 columns]"
      ]
     },
     "execution_count": 162,
     "metadata": {},
     "output_type": "execute_result"
    }
   ],
   "source": [
    "new_df.sample(5)"
   ]
  },
  {
   "cell_type": "markdown",
   "id": "ca5ef960",
   "metadata": {},
   "source": [
    "Now we have normalised the data across each stat column across every player in every season."
   ]
  },
  {
   "cell_type": "markdown",
   "id": "0d9bf4f0",
   "metadata": {},
   "source": [
    "# Function to calculate the distance between two players\n",
    "The player distance function calculates how close two players are on any given stat."
   ]
  },
  {
   "cell_type": "code",
   "execution_count": 163,
   "id": "c2fea44f",
   "metadata": {},
   "outputs": [],
   "source": [
    "# function uses the euclidean distance formula, finding the shortest path between the two points\n",
    "def calc_distance(a, b):\n",
    "    dist = np.sqrt(np.sum(a - b)**2)\n",
    "    return dist"
   ]
  },
  {
   "cell_type": "code",
   "execution_count": 182,
   "id": "b2a7ccfa",
   "metadata": {},
   "outputs": [],
   "source": [
    "# testing this function with three players from the dataframe\n",
    "tatum_df = df_2023[df_2023['player'] == 'Jayson Tatum']\n",
    "ayton_df = df_2023[df_2023['player'] == 'Deandre Ayton']\n",
    "doncic_df = df_2023[df_2023['player'] == 'Luka Dončić']"
   ]
  },
  {
   "cell_type": "code",
   "execution_count": 183,
   "id": "d6d20f1d",
   "metadata": {},
   "outputs": [],
   "source": [
    "tatum_ppg = tatum_df.PTS.tolist()[0]\n",
    "ayton_ppg = ayton_df.PTS.tolist()[0]\n",
    "doncic_ppg = doncic_df.PTS.tolist()[0]"
   ]
  },
  {
   "cell_type": "code",
   "execution_count": 184,
   "id": "0f284f0f",
   "metadata": {},
   "outputs": [
    {
     "data": {
      "text/plain": [
       "12.100000000000001"
      ]
     },
     "execution_count": 184,
     "metadata": {},
     "output_type": "execute_result"
    }
   ],
   "source": [
    "# run the calc_distance function for each pairing\n",
    "calc_distance(tatum_ppg, ayton_ppg)"
   ]
  },
  {
   "cell_type": "code",
   "execution_count": 185,
   "id": "bafde3a3",
   "metadata": {},
   "outputs": [
    {
     "data": {
      "text/plain": [
       "2.299999999999997"
      ]
     },
     "execution_count": 185,
     "metadata": {},
     "output_type": "execute_result"
    }
   ],
   "source": [
    "calc_distance(tatum_ppg, doncic_ppg)"
   ]
  },
  {
   "cell_type": "code",
   "execution_count": 186,
   "id": "03a42c70",
   "metadata": {},
   "outputs": [
    {
     "data": {
      "text/plain": [
       "14.399999999999999"
      ]
     },
     "execution_count": 186,
     "metadata": {},
     "output_type": "execute_result"
    }
   ],
   "source": [
    "calc_distance(ayton_ppg, doncic_ppg)"
   ]
  },
  {
   "cell_type": "markdown",
   "id": "53bf2e35",
   "metadata": {},
   "source": [
    "Hence, the model will group Tatum closer to Doncic for ppg and further from Ayton for ppg."
   ]
  },
  {
   "cell_type": "markdown",
   "id": "21621fb3",
   "metadata": {},
   "source": [
    "# Function to Find A Player\n",
    "Find a row of data based on a player's id and season."
   ]
  },
  {
   "cell_type": "code",
   "execution_count": 189,
   "id": "30fe85cf",
   "metadata": {},
   "outputs": [],
   "source": [
    "def find_player(player_id, season):\n",
    "    for row in df.itertuples():\n",
    "        if player_id == row.player_id and season == row.season:\n",
    "            return row"
   ]
  },
  {
   "cell_type": "code",
   "execution_count": 193,
   "id": "a825d3d0",
   "metadata": {},
   "outputs": [
    {
     "data": {
      "text/plain": [
       "Pandas(Index=4358, seas_id=26463, season=2017, player_id=3872, player='DeMar DeRozan', birth_year=nan, pos='SG', age=27.0, experience=8, lg='NBA', tm='TOR', g=74, gs=74.0, MP=35.4, FGM=9.7, FGA=20.9, fg_percent=0.467, FG3M=0.4, FG3A=1.7, x3p_percent=0.266, x2p_percent=0.484, e_fg_percent=0.47700000000000004, FTM=7.4, FTA=8.7, ft_percent=0.8420000000000001, OREB=0.9, DREB=4.3, AST=3.9, STL=1.1, BLK=0.2, TOV=2.4, PF=1.8, PTS=27.3)"
      ]
     },
     "execution_count": 193,
     "metadata": {},
     "output_type": "execute_result"
    }
   ],
   "source": [
    "# testing with DeMar DeRozan's 2017 season\n",
    "find_player(3872, 2017)"
   ]
  },
  {
   "cell_type": "markdown",
   "id": "110cc538",
   "metadata": {},
   "source": [
    "# Calculating Similarity of Players\n",
    "Using the calc_distance function, a single player's normalised stats will be compared with every other player's normalised stats to find the 10 most similar player seasons. This process will then be repeated for each player."
   ]
  },
  {
   "cell_type": "code",
   "execution_count": 197,
   "id": "d3ab8a1e",
   "metadata": {},
   "outputs": [],
   "source": [
    "# Firstly, completing this process with a single random player"
   ]
  },
  {
   "cell_type": "code",
   "execution_count": 199,
   "id": "5fe684b3",
   "metadata": {},
   "outputs": [],
   "source": [
    "# Grant Williams\n",
    "current_player_id = 4720\n",
    "current_season = 2023"
   ]
  },
  {
   "cell_type": "code",
   "execution_count": 207,
   "id": "826df038",
   "metadata": {},
   "outputs": [],
   "source": [
    "# Calculate all of Grant William's normalised stats\n",
    "# Using the normalised df that has been groupedby season\n",
    "current_player_stats = np.array([\n",
    "    (new_df.loc[(new_df['player_id'] == current_player_id) & (new_df['season'] == current_season), 'NORM_PTS']).item(),\n",
    "    (new_df.loc[(new_df['player_id'] == current_player_id) & (new_df['season'] == current_season), 'NORM_MP']).item(),\n",
    "    (new_df.loc[(new_df['player_id'] == current_player_id) & (new_df['season'] == current_season), 'NORM_FGM']).item(),\n",
    "    (new_df.loc[(new_df['player_id'] == current_player_id) & (new_df['season'] == current_season), 'NORM_FGA']).item(),\n",
    "    (new_df.loc[(new_df['player_id'] == current_player_id) & (new_df['season'] == current_season), 'NORM_FG3M']).item(),\n",
    "    (new_df.loc[(new_df['player_id'] == current_player_id) & (new_df['season'] == current_season), 'NORM_FG3A']).item(),\n",
    "    (new_df.loc[(new_df['player_id'] == current_player_id) & (new_df['season'] == current_season), 'NORM_FTM']).item(),\n",
    "    (new_df.loc[(new_df['player_id'] == current_player_id) & (new_df['season'] == current_season), 'NORM_FTA']).item(),\n",
    "    (new_df.loc[(new_df['player_id'] == current_player_id) & (new_df['season'] == current_season), 'NORM_OREB']).item(),\n",
    "    (new_df.loc[(new_df['player_id'] == current_player_id) & (new_df['season'] == current_season), 'NORM_DREB']).item(),\n",
    "    (new_df.loc[(new_df['player_id'] == current_player_id) & (new_df['season'] == current_season), 'NORM_AST']).item(),\n",
    "    (new_df.loc[(new_df['player_id'] == current_player_id) & (new_df['season'] == current_season), 'NORM_STL']).item(),\n",
    "    (new_df.loc[(new_df['player_id'] == current_player_id) & (new_df['season'] == current_season), 'NORM_TOV']).item(),\n",
    "    (new_df.loc[(new_df['player_id'] == current_player_id) & (new_df['season'] == current_season), 'NORM_BLK']).item(),\n",
    "    (new_df.loc[(new_df['player_id'] == current_player_id) & (new_df['season'] == current_season), 'NORM_PF']).item()\n",
    "])"
   ]
  },
  {
   "cell_type": "code",
   "execution_count": 208,
   "id": "c1b790d6",
   "metadata": {},
   "outputs": [
    {
     "name": "stdout",
     "output_type": "stream",
     "text": [
      "[0.23780488 0.65642458 0.23423423 0.25345622 0.30612245 0.3245614\n",
      " 0.12       0.12195122 0.21568627 0.35106383 0.1509434  0.22222222\n",
      " 0.225      0.13333333 0.62162162]\n"
     ]
    }
   ],
   "source": [
    "print(current_player_stats)"
   ]
  },
  {
   "cell_type": "code",
   "execution_count": 233,
   "id": "5f60c055",
   "metadata": {},
   "outputs": [],
   "source": [
    "# Now comparing with another player, Russell Westbrook 2016\n",
    "westbrook_player_id = 3849\n",
    "westbrook_mvp_season = 2016"
   ]
  },
  {
   "cell_type": "code",
   "execution_count": 235,
   "id": "90e79dea",
   "metadata": {},
   "outputs": [],
   "source": [
    "westbrook_player_stats = np.array([\n",
    "    (new_df.loc[(new_df['player_id'] == westbrook_player_id) & (new_df['season'] == westbrook_mvp_season), 'NORM_PTS']).item(),\n",
    "    (new_df.loc[(new_df['player_id'] == westbrook_player_id) & (new_df['season'] == westbrook_mvp_season), 'NORM_MP']).item(),\n",
    "    (new_df.loc[(new_df['player_id'] == westbrook_player_id) & (new_df['season'] == westbrook_mvp_season), 'NORM_FGM']).item(),\n",
    "    (new_df.loc[(new_df['player_id'] == westbrook_player_id) & (new_df['season'] == westbrook_mvp_season), 'NORM_FGA']).item(),\n",
    "    (new_df.loc[(new_df['player_id'] == westbrook_player_id) & (new_df['season'] == westbrook_mvp_season), 'NORM_FG3M']).item(),\n",
    "    (new_df.loc[(new_df['player_id'] == westbrook_player_id) & (new_df['season'] == westbrook_mvp_season), 'NORM_FG3A']).item(),\n",
    "    (new_df.loc[(new_df['player_id'] == westbrook_player_id) & (new_df['season'] == westbrook_mvp_season), 'NORM_FTM']).item(),\n",
    "    (new_df.loc[(new_df['player_id'] == westbrook_player_id) & (new_df['season'] == westbrook_mvp_season), 'NORM_FTA']).item(),\n",
    "    (new_df.loc[(new_df['player_id'] == westbrook_player_id) & (new_df['season'] == westbrook_mvp_season), 'NORM_OREB']).item(),\n",
    "    (new_df.loc[(new_df['player_id'] == westbrook_player_id) & (new_df['season'] == westbrook_mvp_season), 'NORM_DREB']).item(),\n",
    "    (new_df.loc[(new_df['player_id'] == westbrook_player_id) & (new_df['season'] == westbrook_mvp_season), 'NORM_AST']).item(),\n",
    "    (new_df.loc[(new_df['player_id'] == westbrook_player_id) & (new_df['season'] == westbrook_mvp_season), 'NORM_STL']).item(),\n",
    "    (new_df.loc[(new_df['player_id'] == westbrook_player_id) & (new_df['season'] == westbrook_mvp_season), 'NORM_TOV']).item(),\n",
    "    (new_df.loc[(new_df['player_id'] == westbrook_player_id) & (new_df['season'] == westbrook_mvp_season), 'NORM_BLK']).item(),\n",
    "    (new_df.loc[(new_df['player_id'] == westbrook_player_id) & (new_df['season'] == westbrook_mvp_season), 'NORM_PF']).item()\n",
    "])"
   ]
  },
  {
   "cell_type": "code",
   "execution_count": 240,
   "id": "b4ea4794",
   "metadata": {},
   "outputs": [],
   "source": [
    "# Using the calc_distance function for to compare the two players for each stat\n",
    "vectorized_func = np.vectorize(calc_distance)"
   ]
  },
  {
   "cell_type": "code",
   "execution_count": 244,
   "id": "2af9a89c",
   "metadata": {},
   "outputs": [],
   "source": [
    "distance_vector = vectorized_func(current_player_stats, westbrook_player_stats)"
   ]
  },
  {
   "cell_type": "code",
   "execution_count": 245,
   "id": "6c29f70c",
   "metadata": {},
   "outputs": [
    {
     "data": {
      "text/plain": [
       "array([0.53922215, 0.236639  , 0.56576577, 0.62654378, 0.05122049,\n",
       "       0.05936717, 0.53909091, 0.58393113, 0.15166066, 0.21893617,\n",
       "       0.73794549, 0.73015873, 0.70978261, 0.05225225, 0.06409266])"
      ]
     },
     "execution_count": 245,
     "metadata": {},
     "output_type": "execute_result"
    }
   ],
   "source": [
    "distance_vector"
   ]
  },
  {
   "cell_type": "code",
   "execution_count": 246,
   "id": "16360982",
   "metadata": {},
   "outputs": [],
   "source": [
    "# Now dividing the sum total of the absolute difference with the number of columns to find the average percent error\n",
    "error = np.sum(np.abs(distance_vector) / len(distance_vector))"
   ]
  },
  {
   "cell_type": "code",
   "execution_count": 247,
   "id": "768c7d48",
   "metadata": {},
   "outputs": [
    {
     "data": {
      "text/plain": [
       "0.39110726515536737"
      ]
     },
     "execution_count": 247,
     "metadata": {},
     "output_type": "execute_result"
    }
   ],
   "source": [
    "error"
   ]
  },
  {
   "cell_type": "markdown",
   "id": "c1fc2c68",
   "metadata": {},
   "source": [
    "# Using a For Loop to Compare Multiple Players\n",
    "Using the logic in the section above, we will compare Grant Williams' 2023 season with a random sample of 5 players' seasons in the dataframe."
   ]
  },
  {
   "cell_type": "code",
   "execution_count": 253,
   "id": "2fc14ff5",
   "metadata": {},
   "outputs": [],
   "source": [
    "distance_list = []\n",
    "sample_df = new_df.sample(5)"
   ]
  },
  {
   "cell_type": "code",
   "execution_count": 254,
   "id": "3317fa05",
   "metadata": {},
   "outputs": [
    {
     "name": "stdout",
     "output_type": "stream",
     "text": [
      "Compared to Marcus Morris. Error: 0.06515186454003145\n",
      "Compared to Anderson Varejão. Error: 0.10527784388391834\n",
      "Compared to Wiley Peck. Error: 0.1554097331872946\n",
      "Compared to Nate McMillan. Error: 0.12440129617538727\n",
      "Compared to Shannon Brown. Error: 0.2131844771885848\n"
     ]
    }
   ],
   "source": [
    "# for each row, create a vector for all normalised stats for the target player, the player being compared to Grant Williams\n",
    "for row in sample_df.itertuples():\n",
    "    target_player_stats = np.array([\n",
    "        row.NORM_PTS,\n",
    "        row.NORM_MP,\n",
    "        row.NORM_FGM,\n",
    "        row.NORM_FGA,\n",
    "        row.NORM_FG3M,\n",
    "        row.NORM_FG3A,\n",
    "        row.NORM_FTM,\n",
    "        row.NORM_FTA,\n",
    "        row.NORM_OREB,\n",
    "        row.NORM_DREB,\n",
    "        row.NORM_AST,\n",
    "        row.NORM_STL,\n",
    "        row.NORM_TOV,\n",
    "        row.NORM_BLK,\n",
    "        row.NORM_PF\n",
    "    ])\n",
    "    \n",
    "    # vectorize the calc_distance function and run it to compare Grant Williams with the target player\n",
    "    vectorized_func = np.vectorize(calc_distance)\n",
    "    distance_vector = vectorized_func(current_player_stats, target_player_stats)\n",
    "    # calculate the error and appennd it to the distance list\n",
    "    error = np.sum(np.abs(distance_vector) / len(distance_vector))\n",
    "    distance_list.append(error)\n",
    "    compared_player = row.player\n",
    "    print('Compared to ' + compared_player + '. Error: ' + str(error))"
   ]
  },
  {
   "cell_type": "code",
   "execution_count": 255,
   "id": "ac922cb3",
   "metadata": {},
   "outputs": [],
   "source": [
    "# adding distance as a new column in the sample_df\n",
    "sample_df['distance'] = distance_list"
   ]
  },
  {
   "cell_type": "code",
   "execution_count": 258,
   "id": "e26d779b",
   "metadata": {},
   "outputs": [
    {
     "data": {
      "text/html": [
       "<div>\n",
       "<style scoped>\n",
       "    .dataframe tbody tr th:only-of-type {\n",
       "        vertical-align: middle;\n",
       "    }\n",
       "\n",
       "    .dataframe tbody tr th {\n",
       "        vertical-align: top;\n",
       "    }\n",
       "\n",
       "    .dataframe thead th {\n",
       "        text-align: right;\n",
       "    }\n",
       "</style>\n",
       "<table border=\"1\" class=\"dataframe\">\n",
       "  <thead>\n",
       "    <tr style=\"text-align: right;\">\n",
       "      <th></th>\n",
       "      <th>seas_id</th>\n",
       "      <th>season</th>\n",
       "      <th>player_id</th>\n",
       "      <th>player</th>\n",
       "      <th>birth_year</th>\n",
       "      <th>pos</th>\n",
       "      <th>age</th>\n",
       "      <th>experience</th>\n",
       "      <th>lg</th>\n",
       "      <th>tm</th>\n",
       "      <th>...</th>\n",
       "      <th>NORM_FTM</th>\n",
       "      <th>NORM_FTA</th>\n",
       "      <th>NORM_OREB</th>\n",
       "      <th>NORM_DREB</th>\n",
       "      <th>NORM_AST</th>\n",
       "      <th>NORM_STL</th>\n",
       "      <th>NORM_TOV</th>\n",
       "      <th>NORM_BLK</th>\n",
       "      <th>NORM_PF</th>\n",
       "      <th>distance</th>\n",
       "    </tr>\n",
       "  </thead>\n",
       "  <tbody>\n",
       "    <tr>\n",
       "      <th>439</th>\n",
       "      <td>30897</td>\n",
       "      <td>2023</td>\n",
       "      <td>4042</td>\n",
       "      <td>Marcus Morris</td>\n",
       "      <td>NaN</td>\n",
       "      <td>PF</td>\n",
       "      <td>33.0</td>\n",
       "      <td>12</td>\n",
       "      <td>NBA</td>\n",
       "      <td>LAC</td>\n",
       "      <td>...</td>\n",
       "      <td>0.100000</td>\n",
       "      <td>0.105691</td>\n",
       "      <td>0.078431</td>\n",
       "      <td>0.351064</td>\n",
       "      <td>0.160377</td>\n",
       "      <td>0.277778</td>\n",
       "      <td>0.200000</td>\n",
       "      <td>0.100000</td>\n",
       "      <td>0.540541</td>\n",
       "      <td>0.065152</td>\n",
       "    </tr>\n",
       "    <tr>\n",
       "      <th>9580</th>\n",
       "      <td>20997</td>\n",
       "      <td>2008</td>\n",
       "      <td>3497</td>\n",
       "      <td>Anderson Varejão</td>\n",
       "      <td>NaN</td>\n",
       "      <td>C</td>\n",
       "      <td>25.0</td>\n",
       "      <td>4</td>\n",
       "      <td>NBA</td>\n",
       "      <td>CLE</td>\n",
       "      <td>...</td>\n",
       "      <td>0.121951</td>\n",
       "      <td>0.155963</td>\n",
       "      <td>0.682927</td>\n",
       "      <td>0.500000</td>\n",
       "      <td>0.094828</td>\n",
       "      <td>0.296296</td>\n",
       "      <td>0.272727</td>\n",
       "      <td>0.138889</td>\n",
       "      <td>0.666667</td>\n",
       "      <td>0.105278</td>\n",
       "    </tr>\n",
       "    <tr>\n",
       "      <th>16913</th>\n",
       "      <td>14407</td>\n",
       "      <td>1995</td>\n",
       "      <td>2329</td>\n",
       "      <td>Nate McMillan</td>\n",
       "      <td>NaN</td>\n",
       "      <td>PG</td>\n",
       "      <td>30.0</td>\n",
       "      <td>9</td>\n",
       "      <td>NBA</td>\n",
       "      <td>SEA</td>\n",
       "      <td>...</td>\n",
       "      <td>0.049383</td>\n",
       "      <td>0.064815</td>\n",
       "      <td>0.142857</td>\n",
       "      <td>0.261261</td>\n",
       "      <td>0.430894</td>\n",
       "      <td>0.724138</td>\n",
       "      <td>0.378378</td>\n",
       "      <td>0.179487</td>\n",
       "      <td>0.820513</td>\n",
       "      <td>0.124401</td>\n",
       "    </tr>\n",
       "    <tr>\n",
       "      <th>23141</th>\n",
       "      <td>8344</td>\n",
       "      <td>1980</td>\n",
       "      <td>1897</td>\n",
       "      <td>Wiley Peck</td>\n",
       "      <td>NaN</td>\n",
       "      <td>SF</td>\n",
       "      <td>22.0</td>\n",
       "      <td>1</td>\n",
       "      <td>NBA</td>\n",
       "      <td>SAS</td>\n",
       "      <td>...</td>\n",
       "      <td>0.060976</td>\n",
       "      <td>0.073394</td>\n",
       "      <td>0.173913</td>\n",
       "      <td>0.200000</td>\n",
       "      <td>0.050000</td>\n",
       "      <td>0.064516</td>\n",
       "      <td>0.166667</td>\n",
       "      <td>0.117647</td>\n",
       "      <td>0.439024</td>\n",
       "      <td>0.155410</td>\n",
       "    </tr>\n",
       "    <tr>\n",
       "      <th>6580</th>\n",
       "      <td>25021</td>\n",
       "      <td>2014</td>\n",
       "      <td>3716</td>\n",
       "      <td>Shannon Brown</td>\n",
       "      <td>NaN</td>\n",
       "      <td>SG</td>\n",
       "      <td>28.0</td>\n",
       "      <td>8</td>\n",
       "      <td>NBA</td>\n",
       "      <td>NYK</td>\n",
       "      <td>...</td>\n",
       "      <td>0.045977</td>\n",
       "      <td>0.060606</td>\n",
       "      <td>0.055556</td>\n",
       "      <td>0.031915</td>\n",
       "      <td>0.018692</td>\n",
       "      <td>0.240000</td>\n",
       "      <td>0.108108</td>\n",
       "      <td>0.000000</td>\n",
       "      <td>0.111111</td>\n",
       "      <td>0.213184</td>\n",
       "    </tr>\n",
       "  </tbody>\n",
       "</table>\n",
       "<p>5 rows × 48 columns</p>\n",
       "</div>"
      ],
      "text/plain": [
       "       seas_id  season  player_id            player  birth_year pos   age  \\\n",
       "439      30897    2023       4042     Marcus Morris         NaN  PF  33.0   \n",
       "9580     20997    2008       3497  Anderson Varejão         NaN   C  25.0   \n",
       "16913    14407    1995       2329     Nate McMillan         NaN  PG  30.0   \n",
       "23141     8344    1980       1897        Wiley Peck         NaN  SF  22.0   \n",
       "6580     25021    2014       3716     Shannon Brown         NaN  SG  28.0   \n",
       "\n",
       "       experience   lg   tm  ...  NORM_FTM  NORM_FTA  NORM_OREB  NORM_DREB  \\\n",
       "439            12  NBA  LAC  ...  0.100000  0.105691   0.078431   0.351064   \n",
       "9580            4  NBA  CLE  ...  0.121951  0.155963   0.682927   0.500000   \n",
       "16913           9  NBA  SEA  ...  0.049383  0.064815   0.142857   0.261261   \n",
       "23141           1  NBA  SAS  ...  0.060976  0.073394   0.173913   0.200000   \n",
       "6580            8  NBA  NYK  ...  0.045977  0.060606   0.055556   0.031915   \n",
       "\n",
       "       NORM_AST  NORM_STL  NORM_TOV  NORM_BLK   NORM_PF  distance  \n",
       "439    0.160377  0.277778  0.200000  0.100000  0.540541  0.065152  \n",
       "9580   0.094828  0.296296  0.272727  0.138889  0.666667  0.105278  \n",
       "16913  0.430894  0.724138  0.378378  0.179487  0.820513  0.124401  \n",
       "23141  0.050000  0.064516  0.166667  0.117647  0.439024  0.155410  \n",
       "6580   0.018692  0.240000  0.108108  0.000000  0.111111  0.213184  \n",
       "\n",
       "[5 rows x 48 columns]"
      ]
     },
     "execution_count": 258,
     "metadata": {},
     "output_type": "execute_result"
    }
   ],
   "source": [
    "# sort the dataframe by shortest distance to furthest\n",
    "sorted_df = sample_df.sort_values('distance')\n",
    "sorted_df"
   ]
  },
  {
   "cell_type": "markdown",
   "id": "f55dee73",
   "metadata": {},
   "source": [
    "The shorter the distance, the more similar any two players are. Therefore, Marcus Morris is the most similar player compared to Grant Williams in the small sample."
   ]
  },
  {
   "cell_type": "code",
   "execution_count": null,
   "id": "a9ee5268",
   "metadata": {},
   "outputs": [],
   "source": []
  }
 ],
 "metadata": {
  "kernelspec": {
   "display_name": "Python 3",
   "language": "python",
   "name": "python3"
  },
  "language_info": {
   "codemirror_mode": {
    "name": "ipython",
    "version": 3
   },
   "file_extension": ".py",
   "mimetype": "text/x-python",
   "name": "python",
   "nbconvert_exporter": "python",
   "pygments_lexer": "ipython3",
   "version": "3.6.6"
  }
 },
 "nbformat": 4,
 "nbformat_minor": 5
}
