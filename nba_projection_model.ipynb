{
 "cells": [
  {
   "cell_type": "markdown",
   "id": "c9bad5e9",
   "metadata": {},
   "source": [
    "# Cleaning up the NBA Data"
   ]
  },
  {
   "cell_type": "code",
   "execution_count": 288,
   "id": "9792d49f",
   "metadata": {},
   "outputs": [],
   "source": [
    "import pandas as pd\n",
    "import numpy as np\n",
    "import matplotlib.pyplot as plt\n",
    "%matplotlib inline"
   ]
  },
  {
   "cell_type": "code",
   "execution_count": 289,
   "id": "65288036",
   "metadata": {},
   "outputs": [],
   "source": [
    "# stat columns used in the weekly matchups in a NBA fantasy league\n",
    "stats = ['PTS', 'MP', 'FGM', 'FGA', 'FG3M', 'FG3A', 'FTM', 'FTA', 'OREB', 'DREB', 'AST', 'STL', 'TOV', 'BLK', 'PF']"
   ]
  },
  {
   "cell_type": "code",
   "execution_count": 290,
   "id": "2c527039",
   "metadata": {},
   "outputs": [],
   "source": [
    "# read per game data of NBA players from 1947 to present\n",
    "df = pd.read_csv('../stats-csv/nba-per-game-stats.csv', header = 0)"
   ]
  },
  {
   "cell_type": "code",
   "execution_count": 291,
   "id": "ee8f5620",
   "metadata": {},
   "outputs": [],
   "source": [
    "# renaming columns\n",
    "df.rename(columns={'mp_per_game': 'MP',\n",
    "                   'fg_per_game': 'FGM',\n",
    "                   'fga_per_game': 'FGA',\n",
    "                   'x3p_per_game': 'FG3M',\n",
    "                   'x3pa_per_game': 'FG3A',\n",
    "                   'ft_per_game': 'FTM',\n",
    "                   'fta_per_game': 'FTA',\n",
    "                   'orb_per_game': 'OREB',\n",
    "                   'drb_per_game': 'DREB',\n",
    "                   'ast_per_game': 'AST',\n",
    "                   'stl_per_game': 'STL',\n",
    "                   'blk_per_game': 'BLK',\n",
    "                   'tov_per_game': 'TOV',\n",
    "                   'pf_per_game': 'PF',\n",
    "                   'pts_per_game': 'PTS'}, inplace=True)\n",
    "\n",
    "# remove unnecessary columns\n",
    "df = df.drop(['seas_id','trb_per_game', 'x2pa_per_game', 'x2p_per_game'], axis=1)"
   ]
  },
  {
   "cell_type": "code",
   "execution_count": 292,
   "id": "09287118",
   "metadata": {
    "scrolled": true
   },
   "outputs": [],
   "source": [
    "# drop rows where all values are NaN\n",
    "cleaned_df = df.dropna(axis=0, how='all')"
   ]
  },
  {
   "cell_type": "code",
   "execution_count": 293,
   "id": "0c3c3752",
   "metadata": {},
   "outputs": [
    {
     "data": {
      "text/plain": [
       "<AxesSubplot:>"
      ]
     },
     "execution_count": 293,
     "metadata": {},
     "output_type": "execute_result"
    },
    {
     "data": {
      "image/png": "[encoded data removed]",
      "text/plain": [
       "<Figure size 1080x576 with 1 Axes>"
      ]
     },
     "metadata": {
      "needs_background": "light"
     },
     "output_type": "display_data"
    }
   ],
   "source": [
    "# removing outliers in the data\n",
    "# histogram of games played in the dataframe\n",
    "bin_vals = np.arange(start = 0, stop=82, step=2)\n",
    "cleaned_df['g'].hist(bins=bin_vals, figsize=[15, 8])"
   ]
  },
  {
   "cell_type": "code",
   "execution_count": 294,
   "id": "43462043",
   "metadata": {},
   "outputs": [],
   "source": [
    "# by observing the histogram, we can see the data set gets more normal after 10 games\n",
    "# so all seasons for players that played in less than 10 games will be removed from the dataframe\n",
    "min_games = 10\n",
    "filtered_df = cleaned_df[cleaned_df['g'] > min_games]"
   ]
  },
  {
   "cell_type": "code",
   "execution_count": 295,
   "id": "438840e5",
   "metadata": {},
   "outputs": [],
   "source": [
    "a = cleaned_df['player_id'].count()\n",
    "b = filtered_df['player_id'].count()"
   ]
  },
  {
   "cell_type": "code",
   "execution_count": 296,
   "id": "ab65b7f2",
   "metadata": {},
   "outputs": [
    {
     "data": {
      "text/plain": [
       "3827"
      ]
     },
     "execution_count": 296,
     "metadata": {},
     "output_type": "execute_result"
    }
   ],
   "source": [
    "a - b\n",
    "# 3827 rows have been removed"
   ]
  },
  {
   "cell_type": "markdown",
   "id": "582d7e14",
   "metadata": {},
   "source": [
    "# Normalising Data Across NBA Seasons\n",
    "A 20 points per game player in 1995 is not equivalent to a 20 points per game player in 2023. The playstyle, pace and rules of the NBA have drastically changed over the years. More specifically, the pace of the game has increased, with the average points per game of each season increasing consistently alongside the league's evolution. A key contributor to this is the increased volume in three point shooting, which allows a modern NBA player to more easily average 20 points per game compared to a NBA player from the past. Normalising the stats across NBA seasons will allow for better comparison between players' seasons across multiple decades."
   ]
  },
  {
   "cell_type": "code",
   "execution_count": 297,
   "id": "ac10e29b",
   "metadata": {},
   "outputs": [],
   "source": [
    "latest_season = (filtered_df['season'] == 2023)"
   ]
  },
  {
   "cell_type": "code",
   "execution_count": 298,
   "id": "0e491ad7",
   "metadata": {},
   "outputs": [],
   "source": [
    "df_2023 = filtered_df[latest_season]"
   ]
  },
  {
   "cell_type": "code",
   "execution_count": 299,
   "id": "8dafa9df",
   "metadata": {},
   "outputs": [],
   "source": [
    "# function to normalise each stat column\n",
    "def normalise(column):\n",
    "    return (column - column.min()) / (column.max() - column.min())"
   ]
  },
  {
   "cell_type": "code",
   "execution_count": 300,
   "id": "28811b2f",
   "metadata": {},
   "outputs": [],
   "source": [
    "stats_to_norm = ['PTS', 'MP', 'FGM', 'FGA', 'FG3M', 'FG3A', 'FTM', 'FTA', 'OREB', 'DREB', 'AST', 'STL', 'TOV', 'BLK', 'PF']"
   ]
  },
  {
   "cell_type": "code",
   "execution_count": 301,
   "id": "326b889c",
   "metadata": {},
   "outputs": [],
   "source": [
    "# function to normalise the dataframe using the function above\n",
    "def normalise_df(df):\n",
    "    for stat in stats_to_norm:\n",
    "        df['NORM_{}'.format(stat)] = normalise(df[stat])\n",
    "    return df"
   ]
  },
  {
   "cell_type": "code",
   "execution_count": 302,
   "id": "118cefb1",
   "metadata": {},
   "outputs": [
    {
     "name": "stderr",
     "output_type": "stream",
     "text": [
      "/home/nathhuynh/nba-fantasy/venv/lib/python3.6/site-packages/ipykernel_launcher.py:4: SettingWithCopyWarning: \n",
      "A value is trying to be set on a copy of a slice from a DataFrame.\n",
      "Try using .loc[row_indexer,col_indexer] = value instead\n",
      "\n",
      "See the caveats in the documentation: https://pandas.pydata.org/pandas-docs/stable/user_guide/indexing.html#returning-a-view-versus-a-copy\n",
      "  after removing the cwd from sys.path.\n"
     ]
    }
   ],
   "source": [
    "normed_2023 = normalise_df(df_2023)"
   ]
  },
  {
   "cell_type": "code",
   "execution_count": 303,
   "id": "297c9e31",
   "metadata": {
    "scrolled": false
   },
   "outputs": [
    {
     "data": {
      "text/html": [
       "<div>\n",
       "<style scoped>\n",
       "    .dataframe tbody tr th:only-of-type {\n",
       "        vertical-align: middle;\n",
       "    }\n",
       "\n",
       "    .dataframe tbody tr th {\n",
       "        vertical-align: top;\n",
       "    }\n",
       "\n",
       "    .dataframe thead th {\n",
       "        text-align: right;\n",
       "    }\n",
       "</style>\n",
       "<table border=\"1\" class=\"dataframe\">\n",
       "  <thead>\n",
       "    <tr style=\"text-align: right;\">\n",
       "      <th></th>\n",
       "      <th>season</th>\n",
       "      <th>player_id</th>\n",
       "      <th>player</th>\n",
       "      <th>birth_year</th>\n",
       "      <th>pos</th>\n",
       "      <th>age</th>\n",
       "      <th>experience</th>\n",
       "      <th>lg</th>\n",
       "      <th>tm</th>\n",
       "      <th>g</th>\n",
       "      <th>...</th>\n",
       "      <th>NORM_FG3A</th>\n",
       "      <th>NORM_FTM</th>\n",
       "      <th>NORM_FTA</th>\n",
       "      <th>NORM_OREB</th>\n",
       "      <th>NORM_DREB</th>\n",
       "      <th>NORM_AST</th>\n",
       "      <th>NORM_STL</th>\n",
       "      <th>NORM_TOV</th>\n",
       "      <th>NORM_BLK</th>\n",
       "      <th>NORM_PF</th>\n",
       "    </tr>\n",
       "  </thead>\n",
       "  <tbody>\n",
       "    <tr>\n",
       "      <th>119</th>\n",
       "      <td>2023</td>\n",
       "      <td>4924</td>\n",
       "      <td>David Duke Jr.</td>\n",
       "      <td>NaN</td>\n",
       "      <td>SG</td>\n",
       "      <td>23.0</td>\n",
       "      <td>2</td>\n",
       "      <td>NBA</td>\n",
       "      <td>BRK</td>\n",
       "      <td>23</td>\n",
       "      <td>...</td>\n",
       "      <td>0.043860</td>\n",
       "      <td>0.05</td>\n",
       "      <td>0.056911</td>\n",
       "      <td>0.098039</td>\n",
       "      <td>0.063830</td>\n",
       "      <td>0.075472</td>\n",
       "      <td>0.166667</td>\n",
       "      <td>0.175</td>\n",
       "      <td>0.000000</td>\n",
       "      <td>0.324324</td>\n",
       "    </tr>\n",
       "    <tr>\n",
       "      <th>295</th>\n",
       "      <td>2023</td>\n",
       "      <td>3761</td>\n",
       "      <td>Jeff Green</td>\n",
       "      <td>NaN</td>\n",
       "      <td>PF</td>\n",
       "      <td>36.0</td>\n",
       "      <td>15</td>\n",
       "      <td>NBA</td>\n",
       "      <td>DEN</td>\n",
       "      <td>56</td>\n",
       "      <td>...</td>\n",
       "      <td>0.166667</td>\n",
       "      <td>0.16</td>\n",
       "      <td>0.170732</td>\n",
       "      <td>0.137255</td>\n",
       "      <td>0.180851</td>\n",
       "      <td>0.103774</td>\n",
       "      <td>0.111111</td>\n",
       "      <td>0.175</td>\n",
       "      <td>0.100000</td>\n",
       "      <td>0.459459</td>\n",
       "    </tr>\n",
       "    <tr>\n",
       "      <th>359</th>\n",
       "      <td>2023</td>\n",
       "      <td>4339</td>\n",
       "      <td>Karl-Anthony Towns</td>\n",
       "      <td>NaN</td>\n",
       "      <td>PF</td>\n",
       "      <td>27.0</td>\n",
       "      <td>8</td>\n",
       "      <td>NBA</td>\n",
       "      <td>MIN</td>\n",
       "      <td>29</td>\n",
       "      <td>...</td>\n",
       "      <td>0.500000</td>\n",
       "      <td>0.41</td>\n",
       "      <td>0.382114</td>\n",
       "      <td>0.333333</td>\n",
       "      <td>0.670213</td>\n",
       "      <td>0.443396</td>\n",
       "      <td>0.333333</td>\n",
       "      <td>0.725</td>\n",
       "      <td>0.200000</td>\n",
       "      <td>1.000000</td>\n",
       "    </tr>\n",
       "    <tr>\n",
       "      <th>506</th>\n",
       "      <td>2023</td>\n",
       "      <td>4352</td>\n",
       "      <td>Nikola Jokić</td>\n",
       "      <td>NaN</td>\n",
       "      <td>C</td>\n",
       "      <td>27.0</td>\n",
       "      <td>8</td>\n",
       "      <td>NBA</td>\n",
       "      <td>DEN</td>\n",
       "      <td>69</td>\n",
       "      <td>...</td>\n",
       "      <td>0.192982</td>\n",
       "      <td>0.49</td>\n",
       "      <td>0.487805</td>\n",
       "      <td>0.470588</td>\n",
       "      <td>0.978723</td>\n",
       "      <td>0.915094</td>\n",
       "      <td>0.666667</td>\n",
       "      <td>0.875</td>\n",
       "      <td>0.233333</td>\n",
       "      <td>0.648649</td>\n",
       "    </tr>\n",
       "    <tr>\n",
       "      <th>364</th>\n",
       "      <td>2023</td>\n",
       "      <td>4177</td>\n",
       "      <td>Kelly Olynyk</td>\n",
       "      <td>NaN</td>\n",
       "      <td>C</td>\n",
       "      <td>31.0</td>\n",
       "      <td>10</td>\n",
       "      <td>NBA</td>\n",
       "      <td>UTA</td>\n",
       "      <td>68</td>\n",
       "      <td>...</td>\n",
       "      <td>0.307018</td>\n",
       "      <td>0.29</td>\n",
       "      <td>0.276423</td>\n",
       "      <td>0.235294</td>\n",
       "      <td>0.510638</td>\n",
       "      <td>0.339623</td>\n",
       "      <td>0.444444</td>\n",
       "      <td>0.600</td>\n",
       "      <td>0.166667</td>\n",
       "      <td>0.891892</td>\n",
       "    </tr>\n",
       "  </tbody>\n",
       "</table>\n",
       "<p>5 rows × 46 columns</p>\n",
       "</div>"
      ],
      "text/plain": [
       "     season  player_id              player  birth_year pos   age  experience  \\\n",
       "119    2023       4924      David Duke Jr.         NaN  SG  23.0           2   \n",
       "295    2023       3761          Jeff Green         NaN  PF  36.0          15   \n",
       "359    2023       4339  Karl-Anthony Towns         NaN  PF  27.0           8   \n",
       "506    2023       4352        Nikola Jokić         NaN   C  27.0           8   \n",
       "364    2023       4177        Kelly Olynyk         NaN   C  31.0          10   \n",
       "\n",
       "      lg   tm   g  ...  NORM_FG3A  NORM_FTM  NORM_FTA  NORM_OREB  NORM_DREB  \\\n",
       "119  NBA  BRK  23  ...   0.043860      0.05  0.056911   0.098039   0.063830   \n",
       "295  NBA  DEN  56  ...   0.166667      0.16  0.170732   0.137255   0.180851   \n",
       "359  NBA  MIN  29  ...   0.500000      0.41  0.382114   0.333333   0.670213   \n",
       "506  NBA  DEN  69  ...   0.192982      0.49  0.487805   0.470588   0.978723   \n",
       "364  NBA  UTA  68  ...   0.307018      0.29  0.276423   0.235294   0.510638   \n",
       "\n",
       "     NORM_AST  NORM_STL  NORM_TOV  NORM_BLK   NORM_PF  \n",
       "119  0.075472  0.166667     0.175  0.000000  0.324324  \n",
       "295  0.103774  0.111111     0.175  0.100000  0.459459  \n",
       "359  0.443396  0.333333     0.725  0.200000  1.000000  \n",
       "506  0.915094  0.666667     0.875  0.233333  0.648649  \n",
       "364  0.339623  0.444444     0.600  0.166667  0.891892  \n",
       "\n",
       "[5 rows x 46 columns]"
      ]
     },
     "execution_count": 303,
     "metadata": {},
     "output_type": "execute_result"
    }
   ],
   "source": [
    "normed_2023.sample(5)"
   ]
  },
  {
   "cell_type": "markdown",
   "id": "c6c0ea90",
   "metadata": {},
   "source": [
    "Now we have the columns of normalised stats to compare players across a season. However, since the dataframe is comprised of multiple seasons, we will have to groupby season. "
   ]
  },
  {
   "cell_type": "code",
   "execution_count": 304,
   "id": "999ea3c3",
   "metadata": {},
   "outputs": [],
   "source": [
    "new_df = filtered_df.groupby(['season']).apply(normalise_df)"
   ]
  },
  {
   "cell_type": "code",
   "execution_count": 305,
   "id": "73c3d973",
   "metadata": {},
   "outputs": [
    {
     "data": {
      "text/html": [
       "<div>\n",
       "<style scoped>\n",
       "    .dataframe tbody tr th:only-of-type {\n",
       "        vertical-align: middle;\n",
       "    }\n",
       "\n",
       "    .dataframe tbody tr th {\n",
       "        vertical-align: top;\n",
       "    }\n",
       "\n",
       "    .dataframe thead th {\n",
       "        text-align: right;\n",
       "    }\n",
       "</style>\n",
       "<table border=\"1\" class=\"dataframe\">\n",
       "  <thead>\n",
       "    <tr style=\"text-align: right;\">\n",
       "      <th></th>\n",
       "      <th>season</th>\n",
       "      <th>player_id</th>\n",
       "      <th>player</th>\n",
       "      <th>birth_year</th>\n",
       "      <th>pos</th>\n",
       "      <th>age</th>\n",
       "      <th>experience</th>\n",
       "      <th>lg</th>\n",
       "      <th>tm</th>\n",
       "      <th>g</th>\n",
       "      <th>...</th>\n",
       "      <th>NORM_FG3A</th>\n",
       "      <th>NORM_FTM</th>\n",
       "      <th>NORM_FTA</th>\n",
       "      <th>NORM_OREB</th>\n",
       "      <th>NORM_DREB</th>\n",
       "      <th>NORM_AST</th>\n",
       "      <th>NORM_STL</th>\n",
       "      <th>NORM_TOV</th>\n",
       "      <th>NORM_BLK</th>\n",
       "      <th>NORM_PF</th>\n",
       "    </tr>\n",
       "  </thead>\n",
       "  <tbody>\n",
       "    <tr>\n",
       "      <th>27956</th>\n",
       "      <td>1968</td>\n",
       "      <td>694</td>\n",
       "      <td>Rudy LaRusso</td>\n",
       "      <td>NaN</td>\n",
       "      <td>PF</td>\n",
       "      <td>30.0</td>\n",
       "      <td>9</td>\n",
       "      <td>NBA</td>\n",
       "      <td>SFW</td>\n",
       "      <td>79</td>\n",
       "      <td>...</td>\n",
       "      <td>NaN</td>\n",
       "      <td>0.741573</td>\n",
       "      <td>0.732143</td>\n",
       "      <td>NaN</td>\n",
       "      <td>NaN</td>\n",
       "      <td>0.237113</td>\n",
       "      <td>NaN</td>\n",
       "      <td>NaN</td>\n",
       "      <td>NaN</td>\n",
       "      <td>0.952381</td>\n",
       "    </tr>\n",
       "    <tr>\n",
       "      <th>12348</th>\n",
       "      <td>2004</td>\n",
       "      <td>3093</td>\n",
       "      <td>Tim Thomas</td>\n",
       "      <td>NaN</td>\n",
       "      <td>SF</td>\n",
       "      <td>26.0</td>\n",
       "      <td>7</td>\n",
       "      <td>NBA</td>\n",
       "      <td>MIL</td>\n",
       "      <td>42</td>\n",
       "      <td>...</td>\n",
       "      <td>0.356322</td>\n",
       "      <td>0.305556</td>\n",
       "      <td>0.287129</td>\n",
       "      <td>0.195652</td>\n",
       "      <td>0.361111</td>\n",
       "      <td>0.225806</td>\n",
       "      <td>0.416667</td>\n",
       "      <td>0.372093</td>\n",
       "      <td>0.090909</td>\n",
       "      <td>0.743590</td>\n",
       "    </tr>\n",
       "    <tr>\n",
       "      <th>22314</th>\n",
       "      <td>1982</td>\n",
       "      <td>1953</td>\n",
       "      <td>Mike O'Koren</td>\n",
       "      <td>NaN</td>\n",
       "      <td>SF</td>\n",
       "      <td>23.0</td>\n",
       "      <td>2</td>\n",
       "      <td>NBA</td>\n",
       "      <td>NJN</td>\n",
       "      <td>80</td>\n",
       "      <td>...</td>\n",
       "      <td>0.096774</td>\n",
       "      <td>0.202532</td>\n",
       "      <td>0.212121</td>\n",
       "      <td>0.191176</td>\n",
       "      <td>0.234694</td>\n",
       "      <td>0.242105</td>\n",
       "      <td>0.346154</td>\n",
       "      <td>0.414634</td>\n",
       "      <td>0.064516</td>\n",
       "      <td>0.409091</td>\n",
       "    </tr>\n",
       "    <tr>\n",
       "      <th>773</th>\n",
       "      <td>2022</td>\n",
       "      <td>3435</td>\n",
       "      <td>Carmelo Anthony</td>\n",
       "      <td>NaN</td>\n",
       "      <td>PF</td>\n",
       "      <td>37.0</td>\n",
       "      <td>19</td>\n",
       "      <td>NBA</td>\n",
       "      <td>LAL</td>\n",
       "      <td>69</td>\n",
       "      <td>...</td>\n",
       "      <td>0.495726</td>\n",
       "      <td>0.197917</td>\n",
       "      <td>0.194915</td>\n",
       "      <td>0.195652</td>\n",
       "      <td>0.287037</td>\n",
       "      <td>0.092593</td>\n",
       "      <td>0.318182</td>\n",
       "      <td>0.187500</td>\n",
       "      <td>0.285714</td>\n",
       "      <td>0.621622</td>\n",
       "    </tr>\n",
       "    <tr>\n",
       "      <th>26215</th>\n",
       "      <td>1972</td>\n",
       "      <td>1384</td>\n",
       "      <td>Larry Steele</td>\n",
       "      <td>NaN</td>\n",
       "      <td>SG</td>\n",
       "      <td>22.0</td>\n",
       "      <td>1</td>\n",
       "      <td>NBA</td>\n",
       "      <td>POR</td>\n",
       "      <td>72</td>\n",
       "      <td>...</td>\n",
       "      <td>NaN</td>\n",
       "      <td>0.102273</td>\n",
       "      <td>0.112150</td>\n",
       "      <td>NaN</td>\n",
       "      <td>NaN</td>\n",
       "      <td>0.218750</td>\n",
       "      <td>NaN</td>\n",
       "      <td>NaN</td>\n",
       "      <td>NaN</td>\n",
       "      <td>0.615385</td>\n",
       "    </tr>\n",
       "  </tbody>\n",
       "</table>\n",
       "<p>5 rows × 46 columns</p>\n",
       "</div>"
      ],
      "text/plain": [
       "       season  player_id           player  birth_year pos   age  experience  \\\n",
       "27956    1968        694     Rudy LaRusso         NaN  PF  30.0           9   \n",
       "12348    2004       3093       Tim Thomas         NaN  SF  26.0           7   \n",
       "22314    1982       1953     Mike O'Koren         NaN  SF  23.0           2   \n",
       "773      2022       3435  Carmelo Anthony         NaN  PF  37.0          19   \n",
       "26215    1972       1384     Larry Steele         NaN  SG  22.0           1   \n",
       "\n",
       "        lg   tm   g  ...  NORM_FG3A  NORM_FTM  NORM_FTA  NORM_OREB  NORM_DREB  \\\n",
       "27956  NBA  SFW  79  ...        NaN  0.741573  0.732143        NaN        NaN   \n",
       "12348  NBA  MIL  42  ...   0.356322  0.305556  0.287129   0.195652   0.361111   \n",
       "22314  NBA  NJN  80  ...   0.096774  0.202532  0.212121   0.191176   0.234694   \n",
       "773    NBA  LAL  69  ...   0.495726  0.197917  0.194915   0.195652   0.287037   \n",
       "26215  NBA  POR  72  ...        NaN  0.102273  0.112150        NaN        NaN   \n",
       "\n",
       "       NORM_AST  NORM_STL  NORM_TOV  NORM_BLK   NORM_PF  \n",
       "27956  0.237113       NaN       NaN       NaN  0.952381  \n",
       "12348  0.225806  0.416667  0.372093  0.090909  0.743590  \n",
       "22314  0.242105  0.346154  0.414634  0.064516  0.409091  \n",
       "773    0.092593  0.318182  0.187500  0.285714  0.621622  \n",
       "26215  0.218750       NaN       NaN       NaN  0.615385  \n",
       "\n",
       "[5 rows x 46 columns]"
      ]
     },
     "execution_count": 305,
     "metadata": {},
     "output_type": "execute_result"
    }
   ],
   "source": [
    "new_df.sample(5)"
   ]
  },
  {
   "cell_type": "markdown",
   "id": "ca5ef960",
   "metadata": {},
   "source": [
    "Now we have normalised the data across each stat column across every player in every season."
   ]
  },
  {
   "cell_type": "markdown",
   "id": "0d9bf4f0",
   "metadata": {},
   "source": [
    "# Function to calculate the distance between two players\n",
    "The player distance function calculates how close two players are on any given stat."
   ]
  },
  {
   "cell_type": "code",
   "execution_count": 306,
   "id": "c2fea44f",
   "metadata": {},
   "outputs": [],
   "source": [
    "# function uses the euclidean distance formula, finding the shortest path between the two points\n",
    "def calc_distance(a, b):\n",
    "    dist = np.sqrt(np.sum(a - b)**2)\n",
    "    return dist"
   ]
  },
  {
   "cell_type": "code",
   "execution_count": 307,
   "id": "b2a7ccfa",
   "metadata": {},
   "outputs": [],
   "source": [
    "# testing this function with three players from the dataframe\n",
    "tatum_df = df_2023[df_2023['player'] == 'Jayson Tatum']\n",
    "ayton_df = df_2023[df_2023['player'] == 'Deandre Ayton']\n",
    "doncic_df = df_2023[df_2023['player'] == 'Luka Dončić']"
   ]
  },
  {
   "cell_type": "code",
   "execution_count": 308,
   "id": "d6d20f1d",
   "metadata": {},
   "outputs": [],
   "source": [
    "tatum_ppg = tatum_df.PTS.tolist()[0]\n",
    "ayton_ppg = ayton_df.PTS.tolist()[0]\n",
    "doncic_ppg = doncic_df.PTS.tolist()[0]"
   ]
  },
  {
   "cell_type": "code",
   "execution_count": 309,
   "id": "0f284f0f",
   "metadata": {},
   "outputs": [
    {
     "data": {
      "text/plain": [
       "12.100000000000001"
      ]
     },
     "execution_count": 309,
     "metadata": {},
     "output_type": "execute_result"
    }
   ],
   "source": [
    "# run the calc_distance function for each pairing\n",
    "calc_distance(tatum_ppg, ayton_ppg)"
   ]
  },
  {
   "cell_type": "code",
   "execution_count": 310,
   "id": "bafde3a3",
   "metadata": {},
   "outputs": [
    {
     "data": {
      "text/plain": [
       "2.299999999999997"
      ]
     },
     "execution_count": 310,
     "metadata": {},
     "output_type": "execute_result"
    }
   ],
   "source": [
    "calc_distance(tatum_ppg, doncic_ppg)"
   ]
  },
  {
   "cell_type": "code",
   "execution_count": 311,
   "id": "03a42c70",
   "metadata": {},
   "outputs": [
    {
     "data": {
      "text/plain": [
       "14.399999999999999"
      ]
     },
     "execution_count": 311,
     "metadata": {},
     "output_type": "execute_result"
    }
   ],
   "source": [
    "calc_distance(ayton_ppg, doncic_ppg)"
   ]
  },
  {
   "cell_type": "markdown",
   "id": "53bf2e35",
   "metadata": {},
   "source": [
    "Hence, the model will group Tatum closer to Doncic for ppg and further from Ayton for ppg."
   ]
  },
  {
   "cell_type": "markdown",
   "id": "21621fb3",
   "metadata": {},
   "source": [
    "# Function to Find A Player\n",
    "Find a row of data based on a player's id and season."
   ]
  },
  {
   "cell_type": "code",
   "execution_count": 312,
   "id": "30fe85cf",
   "metadata": {},
   "outputs": [],
   "source": [
    "def find_player(df, player_id, season):\n",
    "    for row in df.itertuples():\n",
    "        if player_id == row.player_id and season == row.season:\n",
    "            return row"
   ]
  },
  {
   "cell_type": "code",
   "execution_count": 313,
   "id": "a825d3d0",
   "metadata": {},
   "outputs": [
    {
     "data": {
      "text/plain": [
       "Pandas(Index=4358, season=2017, player_id=3872, player='DeMar DeRozan', birth_year=nan, pos='SG', age=27.0, experience=8, lg='NBA', tm='TOR', g=74, gs=74.0, MP=35.4, FGM=9.7, FGA=20.9, fg_percent=0.467, FG3M=0.4, FG3A=1.7, x3p_percent=0.266, x2p_percent=0.484, e_fg_percent=0.47700000000000004, FTM=7.4, FTA=8.7, ft_percent=0.8420000000000001, OREB=0.9, DREB=4.3, AST=3.9, STL=1.1, BLK=0.2, TOV=2.4, PF=1.8, PTS=27.3, NORM_PTS=0.8603896103896104, NORM_MP=0.930835734870317, NORM_FGM=0.9405940594059404, NORM_FGA=0.8663793103448275, NORM_FG3M=0.09756097560975611, NORM_FG3A=0.16999999999999998, NORM_FTM=0.8043478260869567, NORM_FTA=0.7981651376146788, NORM_OREB=0.20930232558139536, NORM_DREB=0.40594059405940586, NORM_AST=0.34234234234234234, NORM_STL=0.55, NORM_TOV=0.41071428571428564, NORM_BLK=0.07692307692307693, NORM_PF=0.39534883720930225)"
      ]
     },
     "execution_count": 313,
     "metadata": {},
     "output_type": "execute_result"
    }
   ],
   "source": [
    "# testing with DeMar DeRozan's 2017 season\n",
    "find_player(new_df, 3872, 2017)"
   ]
  },
  {
   "cell_type": "markdown",
   "id": "110cc538",
   "metadata": {},
   "source": [
    "# Calculating Similarity of Players\n",
    "Using the calc_distance function, a single player's normalised stats will be compared with every other player's normalised stats to find the 10 most similar player seasons. This process will then be repeated for each player."
   ]
  },
  {
   "cell_type": "code",
   "execution_count": 314,
   "id": "d3ab8a1e",
   "metadata": {},
   "outputs": [],
   "source": [
    "# Firstly, completing this process with a single random player"
   ]
  },
  {
   "cell_type": "code",
   "execution_count": 315,
   "id": "5fe684b3",
   "metadata": {},
   "outputs": [],
   "source": [
    "# Grant Williams\n",
    "current_player_id = 4720\n",
    "current_season = 2023"
   ]
  },
  {
   "cell_type": "code",
   "execution_count": 316,
   "id": "826df038",
   "metadata": {},
   "outputs": [],
   "source": [
    "# Calculate all of Grant William's normalised stats\n",
    "# Using the normalised df that has been groupedby season\n",
    "current_player_stats = np.array([\n",
    "    (new_df.loc[(new_df['player_id'] == current_player_id) & (new_df['season'] == current_season), 'NORM_PTS']).item(),\n",
    "    (new_df.loc[(new_df['player_id'] == current_player_id) & (new_df['season'] == current_season), 'NORM_MP']).item(),\n",
    "    (new_df.loc[(new_df['player_id'] == current_player_id) & (new_df['season'] == current_season), 'NORM_FGM']).item(),\n",
    "    (new_df.loc[(new_df['player_id'] == current_player_id) & (new_df['season'] == current_season), 'NORM_FGA']).item(),\n",
    "    (new_df.loc[(new_df['player_id'] == current_player_id) & (new_df['season'] == current_season), 'NORM_FG3M']).item(),\n",
    "    (new_df.loc[(new_df['player_id'] == current_player_id) & (new_df['season'] == current_season), 'NORM_FG3A']).item(),\n",
    "    (new_df.loc[(new_df['player_id'] == current_player_id) & (new_df['season'] == current_season), 'NORM_FTM']).item(),\n",
    "    (new_df.loc[(new_df['player_id'] == current_player_id) & (new_df['season'] == current_season), 'NORM_FTA']).item(),\n",
    "    (new_df.loc[(new_df['player_id'] == current_player_id) & (new_df['season'] == current_season), 'NORM_OREB']).item(),\n",
    "    (new_df.loc[(new_df['player_id'] == current_player_id) & (new_df['season'] == current_season), 'NORM_DREB']).item(),\n",
    "    (new_df.loc[(new_df['player_id'] == current_player_id) & (new_df['season'] == current_season), 'NORM_AST']).item(),\n",
    "    (new_df.loc[(new_df['player_id'] == current_player_id) & (new_df['season'] == current_season), 'NORM_STL']).item(),\n",
    "    (new_df.loc[(new_df['player_id'] == current_player_id) & (new_df['season'] == current_season), 'NORM_TOV']).item(),\n",
    "    (new_df.loc[(new_df['player_id'] == current_player_id) & (new_df['season'] == current_season), 'NORM_BLK']).item(),\n",
    "    (new_df.loc[(new_df['player_id'] == current_player_id) & (new_df['season'] == current_season), 'NORM_PF']).item()\n",
    "])"
   ]
  },
  {
   "cell_type": "code",
   "execution_count": 317,
   "id": "c1b790d6",
   "metadata": {},
   "outputs": [
    {
     "name": "stdout",
     "output_type": "stream",
     "text": [
      "[0.23780488 0.65642458 0.23423423 0.25345622 0.30612245 0.3245614\n",
      " 0.12       0.12195122 0.21568627 0.35106383 0.1509434  0.22222222\n",
      " 0.225      0.13333333 0.62162162]\n"
     ]
    }
   ],
   "source": [
    "print(current_player_stats)"
   ]
  },
  {
   "cell_type": "code",
   "execution_count": 318,
   "id": "5f60c055",
   "metadata": {},
   "outputs": [],
   "source": [
    "# Now comparing with another player, Russell Westbrook 2016\n",
    "westbrook_player_id = 3849\n",
    "westbrook_mvp_season = 2016"
   ]
  },
  {
   "cell_type": "code",
   "execution_count": 319,
   "id": "90e79dea",
   "metadata": {},
   "outputs": [],
   "source": [
    "westbrook_player_stats = np.array([\n",
    "    (new_df.loc[(new_df['player_id'] == westbrook_player_id) & (new_df['season'] == westbrook_mvp_season), 'NORM_PTS']).item(),\n",
    "    (new_df.loc[(new_df['player_id'] == westbrook_player_id) & (new_df['season'] == westbrook_mvp_season), 'NORM_MP']).item(),\n",
    "    (new_df.loc[(new_df['player_id'] == westbrook_player_id) & (new_df['season'] == westbrook_mvp_season), 'NORM_FGM']).item(),\n",
    "    (new_df.loc[(new_df['player_id'] == westbrook_player_id) & (new_df['season'] == westbrook_mvp_season), 'NORM_FGA']).item(),\n",
    "    (new_df.loc[(new_df['player_id'] == westbrook_player_id) & (new_df['season'] == westbrook_mvp_season), 'NORM_FG3M']).item(),\n",
    "    (new_df.loc[(new_df['player_id'] == westbrook_player_id) & (new_df['season'] == westbrook_mvp_season), 'NORM_FG3A']).item(),\n",
    "    (new_df.loc[(new_df['player_id'] == westbrook_player_id) & (new_df['season'] == westbrook_mvp_season), 'NORM_FTM']).item(),\n",
    "    (new_df.loc[(new_df['player_id'] == westbrook_player_id) & (new_df['season'] == westbrook_mvp_season), 'NORM_FTA']).item(),\n",
    "    (new_df.loc[(new_df['player_id'] == westbrook_player_id) & (new_df['season'] == westbrook_mvp_season), 'NORM_OREB']).item(),\n",
    "    (new_df.loc[(new_df['player_id'] == westbrook_player_id) & (new_df['season'] == westbrook_mvp_season), 'NORM_DREB']).item(),\n",
    "    (new_df.loc[(new_df['player_id'] == westbrook_player_id) & (new_df['season'] == westbrook_mvp_season), 'NORM_AST']).item(),\n",
    "    (new_df.loc[(new_df['player_id'] == westbrook_player_id) & (new_df['season'] == westbrook_mvp_season), 'NORM_STL']).item(),\n",
    "    (new_df.loc[(new_df['player_id'] == westbrook_player_id) & (new_df['season'] == westbrook_mvp_season), 'NORM_TOV']).item(),\n",
    "    (new_df.loc[(new_df['player_id'] == westbrook_player_id) & (new_df['season'] == westbrook_mvp_season), 'NORM_BLK']).item(),\n",
    "    (new_df.loc[(new_df['player_id'] == westbrook_player_id) & (new_df['season'] == westbrook_mvp_season), 'NORM_PF']).item()\n",
    "])"
   ]
  },
  {
   "cell_type": "code",
   "execution_count": 320,
   "id": "b4ea4794",
   "metadata": {},
   "outputs": [],
   "source": [
    "# Using the calc_distance function to compare the two players for each normalised stat\n",
    "# vectorize the function to operate on a set of values instead of a single value at a time\n",
    "vectorized_func = np.vectorize(calc_distance)"
   ]
  },
  {
   "cell_type": "code",
   "execution_count": 321,
   "id": "2af9a89c",
   "metadata": {},
   "outputs": [],
   "source": [
    "distance_vector = vectorized_func(current_player_stats, westbrook_player_stats)"
   ]
  },
  {
   "cell_type": "code",
   "execution_count": 322,
   "id": "6c29f70c",
   "metadata": {},
   "outputs": [
    {
     "data": {
      "text/plain": [
       "array([0.53922215, 0.236639  , 0.56576577, 0.62654378, 0.05122049,\n",
       "       0.05936717, 0.53909091, 0.58393113, 0.15166066, 0.21893617,\n",
       "       0.73794549, 0.73015873, 0.70978261, 0.05225225, 0.06409266])"
      ]
     },
     "execution_count": 322,
     "metadata": {},
     "output_type": "execute_result"
    }
   ],
   "source": [
    "distance_vector"
   ]
  },
  {
   "cell_type": "code",
   "execution_count": 323,
   "id": "16360982",
   "metadata": {},
   "outputs": [],
   "source": [
    "# Now dividing the sum total of the absolute difference with the number of columns to find the average percent error\n",
    "error = np.sum(np.abs(distance_vector) / len(distance_vector))"
   ]
  },
  {
   "cell_type": "code",
   "execution_count": 324,
   "id": "768c7d48",
   "metadata": {},
   "outputs": [
    {
     "data": {
      "text/plain": [
       "0.39110726515536737"
      ]
     },
     "execution_count": 324,
     "metadata": {},
     "output_type": "execute_result"
    }
   ],
   "source": [
    "error"
   ]
  },
  {
   "cell_type": "markdown",
   "id": "fd93634b",
   "metadata": {},
   "source": [
    "This indicates that Williams' and Westbrook's seasons weren't statistically similar. Which makes sense considering the large difference in each players' skillsets, roles within their team and statistical averages."
   ]
  },
  {
   "cell_type": "markdown",
   "id": "c1fc2c68",
   "metadata": {},
   "source": [
    "# Using a For Loop to Compare Multiple Players\n",
    "Using the logic in the section above, we will compare Grant Williams' 2023 season with a random sample of 5 players' seasons in the dataframe."
   ]
  },
  {
   "cell_type": "code",
   "execution_count": 327,
   "id": "2fc14ff5",
   "metadata": {},
   "outputs": [],
   "source": [
    "distance_list = []\n",
    "sample_df = new_df.sample(5)"
   ]
  },
  {
   "cell_type": "code",
   "execution_count": 328,
   "id": "3317fa05",
   "metadata": {},
   "outputs": [
    {
     "name": "stdout",
     "output_type": "stream",
     "text": [
      "Compared to Torrey Craig. Error: 0.11751395440744627\n",
      "Compared to Travis Best. Error: 0.12918161725703525\n",
      "Compared to Glenn Robinson. Error: 0.16757195801185795\n",
      "Compared to Anthony Davis. Error: 0.36526013415700803\n",
      "Compared to Wayne Cooper. Error: 0.10650725505092637\n"
     ]
    }
   ],
   "source": [
    "# for each row, create a vector for all normalised stats for the target player, the player being compared to Grant Williams\n",
    "for row in sample_df.itertuples():\n",
    "    target_player_stats = np.array([\n",
    "        row.NORM_PTS,\n",
    "        row.NORM_MP,\n",
    "        row.NORM_FGM,\n",
    "        row.NORM_FGA,\n",
    "        row.NORM_FG3M,\n",
    "        row.NORM_FG3A,\n",
    "        row.NORM_FTM,\n",
    "        row.NORM_FTA,\n",
    "        row.NORM_OREB,\n",
    "        row.NORM_DREB,\n",
    "        row.NORM_AST,\n",
    "        row.NORM_STL,\n",
    "        row.NORM_TOV,\n",
    "        row.NORM_BLK,\n",
    "        row.NORM_PF\n",
    "    ])\n",
    "    \n",
    "    # vectorize the calc_distance function and run it to compare Grant Williams with the target player\n",
    "    vectorized_func = np.vectorize(calc_distance)\n",
    "    distance_vector = vectorized_func(current_player_stats, target_player_stats)\n",
    "    # calculate the error and append it to the distance list\n",
    "    error = np.sum(np.abs(distance_vector) / len(distance_vector))\n",
    "    distance_list.append(error)\n",
    "    compared_player = row.player\n",
    "    print('Compared to ' + compared_player + '. Error: ' + str(error))"
   ]
  },
  {
   "cell_type": "code",
   "execution_count": 329,
   "id": "ac922cb3",
   "metadata": {},
   "outputs": [],
   "source": [
    "# adding distance as a new column in the sample_df\n",
    "sample_df['distance'] = distance_list"
   ]
  },
  {
   "cell_type": "code",
   "execution_count": 330,
   "id": "e26d779b",
   "metadata": {},
   "outputs": [
    {
     "data": {
      "text/html": [
       "<div>\n",
       "<style scoped>\n",
       "    .dataframe tbody tr th:only-of-type {\n",
       "        vertical-align: middle;\n",
       "    }\n",
       "\n",
       "    .dataframe tbody tr th {\n",
       "        vertical-align: top;\n",
       "    }\n",
       "\n",
       "    .dataframe thead th {\n",
       "        text-align: right;\n",
       "    }\n",
       "</style>\n",
       "<table border=\"1\" class=\"dataframe\">\n",
       "  <thead>\n",
       "    <tr style=\"text-align: right;\">\n",
       "      <th></th>\n",
       "      <th>season</th>\n",
       "      <th>player_id</th>\n",
       "      <th>player</th>\n",
       "      <th>birth_year</th>\n",
       "      <th>pos</th>\n",
       "      <th>age</th>\n",
       "      <th>experience</th>\n",
       "      <th>lg</th>\n",
       "      <th>tm</th>\n",
       "      <th>g</th>\n",
       "      <th>...</th>\n",
       "      <th>NORM_FTM</th>\n",
       "      <th>NORM_FTA</th>\n",
       "      <th>NORM_OREB</th>\n",
       "      <th>NORM_DREB</th>\n",
       "      <th>NORM_AST</th>\n",
       "      <th>NORM_STL</th>\n",
       "      <th>NORM_TOV</th>\n",
       "      <th>NORM_BLK</th>\n",
       "      <th>NORM_PF</th>\n",
       "      <th>distance</th>\n",
       "    </tr>\n",
       "  </thead>\n",
       "  <tbody>\n",
       "    <tr>\n",
       "      <th>22779</th>\n",
       "      <td>1981</td>\n",
       "      <td>1842</td>\n",
       "      <td>Wayne Cooper</td>\n",
       "      <td>NaN</td>\n",
       "      <td>C</td>\n",
       "      <td>24.0</td>\n",
       "      <td>3</td>\n",
       "      <td>NBA</td>\n",
       "      <td>UTA</td>\n",
       "      <td>71</td>\n",
       "      <td>...</td>\n",
       "      <td>0.111111</td>\n",
       "      <td>0.128713</td>\n",
       "      <td>0.389831</td>\n",
       "      <td>0.436782</td>\n",
       "      <td>0.066667</td>\n",
       "      <td>0.088235</td>\n",
       "      <td>0.243243</td>\n",
       "      <td>0.205882</td>\n",
       "      <td>0.717949</td>\n",
       "      <td>0.106507</td>\n",
       "    </tr>\n",
       "    <tr>\n",
       "      <th>4159</th>\n",
       "      <td>2018</td>\n",
       "      <td>4570</td>\n",
       "      <td>Torrey Craig</td>\n",
       "      <td>NaN</td>\n",
       "      <td>SF</td>\n",
       "      <td>27.0</td>\n",
       "      <td>1</td>\n",
       "      <td>NBA</td>\n",
       "      <td>DEN</td>\n",
       "      <td>39</td>\n",
       "      <td>...</td>\n",
       "      <td>0.068966</td>\n",
       "      <td>0.089109</td>\n",
       "      <td>0.196078</td>\n",
       "      <td>0.186916</td>\n",
       "      <td>0.058252</td>\n",
       "      <td>0.125000</td>\n",
       "      <td>0.100000</td>\n",
       "      <td>0.153846</td>\n",
       "      <td>0.421053</td>\n",
       "      <td>0.117514</td>\n",
       "    </tr>\n",
       "    <tr>\n",
       "      <th>16025</th>\n",
       "      <td>1997</td>\n",
       "      <td>2962</td>\n",
       "      <td>Travis Best</td>\n",
       "      <td>NaN</td>\n",
       "      <td>PG</td>\n",
       "      <td>24.0</td>\n",
       "      <td>2</td>\n",
       "      <td>NBA</td>\n",
       "      <td>IND</td>\n",
       "      <td>76</td>\n",
       "      <td>...</td>\n",
       "      <td>0.312500</td>\n",
       "      <td>0.276596</td>\n",
       "      <td>0.084746</td>\n",
       "      <td>0.150000</td>\n",
       "      <td>0.341463</td>\n",
       "      <td>0.481481</td>\n",
       "      <td>0.454545</td>\n",
       "      <td>0.025000</td>\n",
       "      <td>0.692308</td>\n",
       "      <td>0.129182</td>\n",
       "    </tr>\n",
       "    <tr>\n",
       "      <th>12025</th>\n",
       "      <td>2004</td>\n",
       "      <td>2862</td>\n",
       "      <td>Glenn Robinson</td>\n",
       "      <td>NaN</td>\n",
       "      <td>SF</td>\n",
       "      <td>31.0</td>\n",
       "      <td>10</td>\n",
       "      <td>NBA</td>\n",
       "      <td>PHI</td>\n",
       "      <td>42</td>\n",
       "      <td>...</td>\n",
       "      <td>0.375000</td>\n",
       "      <td>0.326733</td>\n",
       "      <td>0.239130</td>\n",
       "      <td>0.305556</td>\n",
       "      <td>0.150538</td>\n",
       "      <td>0.416667</td>\n",
       "      <td>0.558140</td>\n",
       "      <td>0.045455</td>\n",
       "      <td>0.564103</td>\n",
       "      <td>0.167572</td>\n",
       "    </tr>\n",
       "    <tr>\n",
       "      <th>6083</th>\n",
       "      <td>2014</td>\n",
       "      <td>4066</td>\n",
       "      <td>Anthony Davis</td>\n",
       "      <td>NaN</td>\n",
       "      <td>PF</td>\n",
       "      <td>20.0</td>\n",
       "      <td>2</td>\n",
       "      <td>NBA</td>\n",
       "      <td>NOP</td>\n",
       "      <td>67</td>\n",
       "      <td>...</td>\n",
       "      <td>0.597701</td>\n",
       "      <td>0.666667</td>\n",
       "      <td>0.574074</td>\n",
       "      <td>0.723404</td>\n",
       "      <td>0.149533</td>\n",
       "      <td>0.520000</td>\n",
       "      <td>0.405405</td>\n",
       "      <td>1.000000</td>\n",
       "      <td>0.777778</td>\n",
       "      <td>0.365260</td>\n",
       "    </tr>\n",
       "  </tbody>\n",
       "</table>\n",
       "<p>5 rows × 47 columns</p>\n",
       "</div>"
      ],
      "text/plain": [
       "       season  player_id          player  birth_year pos   age  experience  \\\n",
       "22779    1981       1842    Wayne Cooper         NaN   C  24.0           3   \n",
       "4159     2018       4570    Torrey Craig         NaN  SF  27.0           1   \n",
       "16025    1997       2962     Travis Best         NaN  PG  24.0           2   \n",
       "12025    2004       2862  Glenn Robinson         NaN  SF  31.0          10   \n",
       "6083     2014       4066   Anthony Davis         NaN  PF  20.0           2   \n",
       "\n",
       "        lg   tm   g  ...  NORM_FTM  NORM_FTA  NORM_OREB  NORM_DREB  NORM_AST  \\\n",
       "22779  NBA  UTA  71  ...  0.111111  0.128713   0.389831   0.436782  0.066667   \n",
       "4159   NBA  DEN  39  ...  0.068966  0.089109   0.196078   0.186916  0.058252   \n",
       "16025  NBA  IND  76  ...  0.312500  0.276596   0.084746   0.150000  0.341463   \n",
       "12025  NBA  PHI  42  ...  0.375000  0.326733   0.239130   0.305556  0.150538   \n",
       "6083   NBA  NOP  67  ...  0.597701  0.666667   0.574074   0.723404  0.149533   \n",
       "\n",
       "       NORM_STL  NORM_TOV  NORM_BLK   NORM_PF  distance  \n",
       "22779  0.088235  0.243243  0.205882  0.717949  0.106507  \n",
       "4159   0.125000  0.100000  0.153846  0.421053  0.117514  \n",
       "16025  0.481481  0.454545  0.025000  0.692308  0.129182  \n",
       "12025  0.416667  0.558140  0.045455  0.564103  0.167572  \n",
       "6083   0.520000  0.405405  1.000000  0.777778  0.365260  \n",
       "\n",
       "[5 rows x 47 columns]"
      ]
     },
     "execution_count": 330,
     "metadata": {},
     "output_type": "execute_result"
    }
   ],
   "source": [
    "# sort the dataframe by shortest distance to furthest\n",
    "sorted_df = sample_df.sort_values('distance')\n",
    "sorted_df"
   ]
  },
  {
   "cell_type": "markdown",
   "id": "f55dee73",
   "metadata": {},
   "source": [
    "The shorter the distance, the more similar any two players' seasons are. Therefore, Wayne Coopers's 1981 season is the most similar season compared to Grant Williams' 2023 season in the small sample."
   ]
  },
  {
   "cell_type": "markdown",
   "id": "0d37d9a8",
   "metadata": {},
   "source": [
    "# Logic for the next steps of the model...\n",
    "For each current player partaking in the 2023-24 season, we will be finding the 10 most similar player seasons across history. Once we have the 10 most similar seasons, we will look at the following season (the season after) for each of them. The logic is that we can use a weighted average of the following season stats for those 10 seasons to predict the current player's upcoming stats.\n",
    "\n",
    "A weighted average will be used to allow for similar seasons with the lowest error (shortest distance) to be more emphasised."
   ]
  },
  {
   "cell_type": "code",
   "execution_count": 331,
   "id": "f379f80a",
   "metadata": {},
   "outputs": [],
   "source": [
    "seasons = [str(year) for year in range(1947, 2024)]\n",
    "predicted_stats = {}"
   ]
  },
  {
   "cell_type": "code",
   "execution_count": null,
   "id": "9aef69aa",
   "metadata": {},
   "outputs": [],
   "source": [
    "# loop to get the sum of stats and weight from the 5 ranked seasons above\n",
    "for col in stats:\n",
    "    stat_sum = 0\n",
    "    weight_sum = 0\n",
    "    for index, row in sorted_df.iloc[0:5].iterrows():\n",
    "        # can't take the following season, skip it\n",
    "        if row.season == '2023':\n",
    "            continue\n",
    "        weight = (1 / row.distance)\n",
    "        following_season = row.season + 1\n",
    "        # use the find player function to find the stats for the following season\n",
    "        following_season_stats = find_player(sorted_df, row.player_id, following_season)\n",
    "        if following_season_stats == None:\n",
    "            continue\n",
    "        stat_sum += getattr(following_season_stats, col) * weight\n",
    "        weight_sum += weight\n",
    "    # insert into the predicted stats dataframe\n",
    "    predicted_stats['player_id'] = current_player_id\n",
    "    predicted_stats['predicted_season'] = following_season\n",
    "    # ie. predicted points per game is the sum of all 5 players' points per game divided by weight\n",
    "    predicted_stats['predicted_' + col] = (stat_sum / weight_sum)"
   ]
  },
  {
   "cell_type": "markdown",
   "id": "06aeacd4",
   "metadata": {},
   "source": [
    "# Bringing it all together...\n",
    "Predicting the stats for all players coming into the 2023-24 season."
   ]
  },
  {
   "cell_type": "code",
   "execution_count": 333,
   "id": "ec1b7362",
   "metadata": {},
   "outputs": [],
   "source": [
    "def stats_prediction(df, current_season, current_player_id):\n",
    "    current_season = int(current_season)\n",
    "    current_player_id = int(current_player_id)\n",
    "    if not ((df['season'] == current_season) & (df['player_id'] == current_player_id)).any():\n",
    "        print('Cannot find player in season {} with player_id {}'.format(current_season, current_player_id))\n",
    "        return\n",
    "    for row in df.itertuples():\n",
    "        if current_season == row.season and current_player_id == row.player_id:\n",
    "            current_player_id = row.player_id\n",
    "            break\n",
    "            \n",
    "    # calculate all of current player's normalised stats, using the normalised dataframe that has been grouped by season\n",
    "    current_player_stats = np.array([\n",
    "        (new_df.loc[(new_df['player_id'] == current_player_id) & (new_df['season'] == current_season), 'NORM_PTS']).item(),\n",
    "        (new_df.loc[(new_df['player_id'] == current_player_id) & (new_df['season'] == current_season), 'NORM_MP']).item(),\n",
    "        (new_df.loc[(new_df['player_id'] == current_player_id) & (new_df['season'] == current_season), 'NORM_FGM']).item(),\n",
    "        (new_df.loc[(new_df['player_id'] == current_player_id) & (new_df['season'] == current_season), 'NORM_FGA']).item(),\n",
    "        (new_df.loc[(new_df['player_id'] == current_player_id) & (new_df['season'] == current_season), 'NORM_FG3M']).item(),\n",
    "        (new_df.loc[(new_df['player_id'] == current_player_id) & (new_df['season'] == current_season), 'NORM_FG3A']).item(),\n",
    "        (new_df.loc[(new_df['player_id'] == current_player_id) & (new_df['season'] == current_season), 'NORM_FTM']).item(),\n",
    "        (new_df.loc[(new_df['player_id'] == current_player_id) & (new_df['season'] == current_season), 'NORM_FTA']).item(),\n",
    "        (new_df.loc[(new_df['player_id'] == current_player_id) & (new_df['season'] == current_season), 'NORM_OREB']).item(),\n",
    "        (new_df.loc[(new_df['player_id'] == current_player_id) & (new_df['season'] == current_season), 'NORM_DREB']).item(),\n",
    "        (new_df.loc[(new_df['player_id'] == current_player_id) & (new_df['season'] == current_season), 'NORM_AST']).item(),\n",
    "        (new_df.loc[(new_df['player_id'] == current_player_id) & (new_df['season'] == current_season), 'NORM_STL']).item(),\n",
    "        (new_df.loc[(new_df['player_id'] == current_player_id) & (new_df['season'] == current_season), 'NORM_TOV']).item(),\n",
    "        (new_df.loc[(new_df['player_id'] == current_player_id) & (new_df['season'] == current_season), 'NORM_BLK']).item(),\n",
    "        (new_df.loc[(new_df['player_id'] == current_player_id) & (new_df['season'] == current_season), 'NORM_PF']).item()\n",
    "    ])\n",
    "\n",
    "    distance_list = []\n",
    "    \n",
    "    # these values can be adjusted to suit the point system being used in the Fantasy League you are playing in\n",
    "    # default settings are a weight of 1.0 for each stat\n",
    "    fantasy_points_weighting = [1, 1, 1, 1, 1, 1, 1, 1, 1, 1, 1, 1, 1, 1, 1]\n",
    "    \n",
    "    # for each row, create a vector for all normalised stats for the target player\n",
    "    for row in sample_df.itertuples():\n",
    "        target_player_stats = np.array([\n",
    "            row.NORM_PTS,\n",
    "            row.NORM_MP,\n",
    "            row.NORM_FGM,\n",
    "            row.NORM_FGA,\n",
    "            row.NORM_FG3M,\n",
    "            row.NORM_FG3A,\n",
    "            row.NORM_FTM,\n",
    "            row.NORM_FTA,\n",
    "            row.NORM_OREB,\n",
    "            row.NORM_DREB,\n",
    "            row.NORM_AST,\n",
    "            row.NORM_STL,\n",
    "            row.NORM_TOV,\n",
    "            row.NORM_BLK,\n",
    "            row.NORM_PF\n",
    "        ])\n",
    "\n",
    "        # vectorize the calc_distance function and run it to compare Grant Williams with the target player\n",
    "        vectorized_func = np.vectorize(calc_distance)\n",
    "        distance_vector = vectorized_func(current_player_stats, target_player_stats)\n",
    "        # apply the weighting settings\n",
    "        weighted_dist = distance_vector * fantasy_points_weighting\n",
    "        np.sum(np.abs(weighted_dist)) / len(distance_vector)\n",
    "        # calculate the error and append it to the distance list\n",
    "        distance_list.append(error)\n",
    "    \n",
    "    df['distance'] = distance_list\n",
    "    \n",
    "    # dataframe sorted by shortest distance\n",
    "    sorted_df = df.sort_values('distance')\n",
    "    \n",
    "    predicted_stats = {}\n",
    "    print('Predicting {} stats for player id: '.format(current_season+1,  current_player_id))\n",
    "    \n",
    "    # loop to get the sum of stats and weight from the 5 ranked seasons above\n",
    "    for col in stats:\n",
    "        stat_sum = 0\n",
    "        weight_sum = 0\n",
    "        for index, row in sorted_df.iloc[0:5].iterrows():\n",
    "            # can't take the following season, skip it\n",
    "            if row.season == '2023':\n",
    "                continue\n",
    "            weight = (1 / row.distance)\n",
    "            following_season = row.season + 1\n",
    "            # use the find player function to find the stats for the following season\n",
    "            following_season_stats = find_player(sorted_df, row.player_id, following_season)\n",
    "            if following_season_stats == None:\n",
    "                continue\n",
    "            stat_sum += getattr(following_season_stats, col) * weight\n",
    "            weight_sum += weight\n",
    "        # insert into the predicted stats dataframe\n",
    "        predicted_stats['player_id'] = current_player_id\n",
    "        predicted_stats['predicted_season'] = following_season\n",
    "        # ie. predicted points per game is the sum of all 5 players' points per game divided by weight\n",
    "        predicted_stats['predicted_' + col] = (stat_sum / weight_sum)\n",
    "    \n",
    "    return predicted_stats"
   ]
  },
  {
   "cell_type": "markdown",
   "id": "e4501972",
   "metadata": {},
   "source": [
    "# Predicting 2023-24 NBA Season Stats\n",
    "A quick test run with 5 randomly selected players..."
   ]
  },
  {
   "cell_type": "code",
   "execution_count": 335,
   "id": "9f91a301",
   "metadata": {},
   "outputs": [
    {
     "data": {
      "text/html": [
       "<div>\n",
       "<style scoped>\n",
       "    .dataframe tbody tr th:only-of-type {\n",
       "        vertical-align: middle;\n",
       "    }\n",
       "\n",
       "    .dataframe tbody tr th {\n",
       "        vertical-align: top;\n",
       "    }\n",
       "\n",
       "    .dataframe thead th {\n",
       "        text-align: right;\n",
       "    }\n",
       "</style>\n",
       "<table border=\"1\" class=\"dataframe\">\n",
       "  <thead>\n",
       "    <tr style=\"text-align: right;\">\n",
       "      <th></th>\n",
       "      <th>season</th>\n",
       "      <th>player_id</th>\n",
       "      <th>player</th>\n",
       "      <th>birth_year</th>\n",
       "      <th>pos</th>\n",
       "      <th>age</th>\n",
       "      <th>experience</th>\n",
       "      <th>lg</th>\n",
       "      <th>tm</th>\n",
       "      <th>g</th>\n",
       "      <th>...</th>\n",
       "      <th>NORM_FG3A</th>\n",
       "      <th>NORM_FTM</th>\n",
       "      <th>NORM_FTA</th>\n",
       "      <th>NORM_OREB</th>\n",
       "      <th>NORM_DREB</th>\n",
       "      <th>NORM_AST</th>\n",
       "      <th>NORM_STL</th>\n",
       "      <th>NORM_TOV</th>\n",
       "      <th>NORM_BLK</th>\n",
       "      <th>NORM_PF</th>\n",
       "    </tr>\n",
       "  </thead>\n",
       "  <tbody>\n",
       "    <tr>\n",
       "      <th>654</th>\n",
       "      <td>2023</td>\n",
       "      <td>4895</td>\n",
       "      <td>Vernon Carey Jr.</td>\n",
       "      <td>NaN</td>\n",
       "      <td>C</td>\n",
       "      <td>21.0</td>\n",
       "      <td>3</td>\n",
       "      <td>NBA</td>\n",
       "      <td>WAS</td>\n",
       "      <td>11</td>\n",
       "      <td>...</td>\n",
       "      <td>0.000000</td>\n",
       "      <td>0.02</td>\n",
       "      <td>0.016260</td>\n",
       "      <td>0.058824</td>\n",
       "      <td>0.053191</td>\n",
       "      <td>0.018868</td>\n",
       "      <td>0.055556</td>\n",
       "      <td>0.025</td>\n",
       "      <td>0.066667</td>\n",
       "      <td>0.108108</td>\n",
       "    </tr>\n",
       "    <tr>\n",
       "      <th>107</th>\n",
       "      <td>2023</td>\n",
       "      <td>3867</td>\n",
       "      <td>Danny Green</td>\n",
       "      <td>NaN</td>\n",
       "      <td>SG</td>\n",
       "      <td>35.0</td>\n",
       "      <td>14</td>\n",
       "      <td>NBA</td>\n",
       "      <td>TOT</td>\n",
       "      <td>11</td>\n",
       "      <td>...</td>\n",
       "      <td>0.298246</td>\n",
       "      <td>0.01</td>\n",
       "      <td>0.008130</td>\n",
       "      <td>0.058824</td>\n",
       "      <td>0.085106</td>\n",
       "      <td>0.037736</td>\n",
       "      <td>0.222222</td>\n",
       "      <td>0.200</td>\n",
       "      <td>0.100000</td>\n",
       "      <td>0.378378</td>\n",
       "    </tr>\n",
       "    <tr>\n",
       "      <th>177</th>\n",
       "      <td>2023</td>\n",
       "      <td>3815</td>\n",
       "      <td>Eric Gordon</td>\n",
       "      <td>NaN</td>\n",
       "      <td>SG</td>\n",
       "      <td>34.0</td>\n",
       "      <td>15</td>\n",
       "      <td>NBA</td>\n",
       "      <td>LAC</td>\n",
       "      <td>22</td>\n",
       "      <td>...</td>\n",
       "      <td>0.438596</td>\n",
       "      <td>0.15</td>\n",
       "      <td>0.138211</td>\n",
       "      <td>0.039216</td>\n",
       "      <td>0.138298</td>\n",
       "      <td>0.188679</td>\n",
       "      <td>0.277778</td>\n",
       "      <td>0.225</td>\n",
       "      <td>0.133333</td>\n",
       "      <td>0.378378</td>\n",
       "    </tr>\n",
       "    <tr>\n",
       "      <th>94</th>\n",
       "      <td>2023</td>\n",
       "      <td>4317</td>\n",
       "      <td>D'Angelo Russell</td>\n",
       "      <td>NaN</td>\n",
       "      <td>PG</td>\n",
       "      <td>26.0</td>\n",
       "      <td>8</td>\n",
       "      <td>NBA</td>\n",
       "      <td>TOT</td>\n",
       "      <td>71</td>\n",
       "      <td>...</td>\n",
       "      <td>0.605263</td>\n",
       "      <td>0.25</td>\n",
       "      <td>0.243902</td>\n",
       "      <td>0.098039</td>\n",
       "      <td>0.244681</td>\n",
       "      <td>0.575472</td>\n",
       "      <td>0.500000</td>\n",
       "      <td>0.625</td>\n",
       "      <td>0.133333</td>\n",
       "      <td>0.513514</td>\n",
       "    </tr>\n",
       "    <tr>\n",
       "      <th>251</th>\n",
       "      <td>2023</td>\n",
       "      <td>4630</td>\n",
       "      <td>Jalen Brunson</td>\n",
       "      <td>NaN</td>\n",
       "      <td>PG</td>\n",
       "      <td>26.0</td>\n",
       "      <td>5</td>\n",
       "      <td>NBA</td>\n",
       "      <td>NYK</td>\n",
       "      <td>68</td>\n",
       "      <td>...</td>\n",
       "      <td>0.412281</td>\n",
       "      <td>0.48</td>\n",
       "      <td>0.471545</td>\n",
       "      <td>0.117647</td>\n",
       "      <td>0.297872</td>\n",
       "      <td>0.575472</td>\n",
       "      <td>0.444444</td>\n",
       "      <td>0.500</td>\n",
       "      <td>0.066667</td>\n",
       "      <td>0.567568</td>\n",
       "    </tr>\n",
       "  </tbody>\n",
       "</table>\n",
       "<p>5 rows × 46 columns</p>\n",
       "</div>"
      ],
      "text/plain": [
       "     season  player_id            player  birth_year pos   age  experience  \\\n",
       "654    2023       4895  Vernon Carey Jr.         NaN   C  21.0           3   \n",
       "107    2023       3867       Danny Green         NaN  SG  35.0          14   \n",
       "177    2023       3815       Eric Gordon         NaN  SG  34.0          15   \n",
       "94     2023       4317  D'Angelo Russell         NaN  PG  26.0           8   \n",
       "251    2023       4630     Jalen Brunson         NaN  PG  26.0           5   \n",
       "\n",
       "      lg   tm   g  ...  NORM_FG3A  NORM_FTM  NORM_FTA  NORM_OREB  NORM_DREB  \\\n",
       "654  NBA  WAS  11  ...   0.000000      0.02  0.016260   0.058824   0.053191   \n",
       "107  NBA  TOT  11  ...   0.298246      0.01  0.008130   0.058824   0.085106   \n",
       "177  NBA  LAC  22  ...   0.438596      0.15  0.138211   0.039216   0.138298   \n",
       "94   NBA  TOT  71  ...   0.605263      0.25  0.243902   0.098039   0.244681   \n",
       "251  NBA  NYK  68  ...   0.412281      0.48  0.471545   0.117647   0.297872   \n",
       "\n",
       "     NORM_AST  NORM_STL  NORM_TOV  NORM_BLK   NORM_PF  \n",
       "654  0.018868  0.055556     0.025  0.066667  0.108108  \n",
       "107  0.037736  0.222222     0.200  0.100000  0.378378  \n",
       "177  0.188679  0.277778     0.225  0.133333  0.378378  \n",
       "94   0.575472  0.500000     0.625  0.133333  0.513514  \n",
       "251  0.575472  0.444444     0.500  0.066667  0.567568  \n",
       "\n",
       "[5 rows x 46 columns]"
      ]
     },
     "execution_count": 335,
     "metadata": {},
     "output_type": "execute_result"
    }
   ],
   "source": [
    "df_2023.sample(5)"
   ]
  },
  {
   "cell_type": "code",
   "execution_count": 336,
   "id": "c3663a19",
   "metadata": {},
   "outputs": [],
   "source": [
    "players = new_df[new_df['season'] == 2023]"
   ]
  },
  {
   "cell_type": "code",
   "execution_count": 337,
   "id": "ed6f854e",
   "metadata": {},
   "outputs": [],
   "source": [
    "player_ids_2023 = players['player_id'].tolist()"
   ]
  },
  {
   "cell_type": "code",
   "execution_count": null,
   "id": "ffda7f3d",
   "metadata": {},
   "outputs": [],
   "source": [
    "for player in players:\n",
    "    current_season = '2023'\n",
    "    current_player_id = player\n",
    "    # generate stats predictions for each player\n",
    "    predictions = stats_prediction(new_df, current_season, current_player_id)\n",
    "    if (predictions == None):\n",
    "        continue\n",
    "    predictions_data.append(predictions)"
   ]
  },
  {
   "cell_type": "code",
   "execution_count": null,
   "id": "f5c8689e",
   "metadata": {},
   "outputs": [],
   "source": []
  },
  {
   "cell_type": "code",
   "execution_count": null,
   "id": "fa963326",
   "metadata": {},
   "outputs": [],
   "source": []
  },
  {
   "cell_type": "code",
   "execution_count": null,
   "id": "c1411c9a",
   "metadata": {},
   "outputs": [],
   "source": []
  },
  {
   "cell_type": "code",
   "execution_count": null,
   "id": "5f305ff3",
   "metadata": {},
   "outputs": [],
   "source": []
  },
  {
   "cell_type": "code",
   "execution_count": null,
   "id": "36e4b195",
   "metadata": {},
   "outputs": [],
   "source": []
  }
 ],
 "metadata": {
  "kernelspec": {
   "display_name": "Python 3",
   "language": "python",
   "name": "python3"
  },
  "language_info": {
   "codemirror_mode": {
    "name": "ipython",
    "version": 3
   },
   "file_extension": ".py",
   "mimetype": "text/x-python",
   "name": "python",
   "nbconvert_exporter": "python",
   "pygments_lexer": "ipython3",
   "version": "3.6.6"
  }
 },
 "nbformat": 4,
 "nbformat_minor": 5
}
